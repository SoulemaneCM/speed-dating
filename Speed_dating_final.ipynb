{
  "nbformat": 4,
  "nbformat_minor": 0,
  "metadata": {
    "kernelspec": {
      "display_name": "Python 3",
      "language": "python",
      "name": "python3"
    },
    "language_info": {
      "codemirror_mode": {
        "name": "ipython",
        "version": 3
      },
      "file_extension": ".py",
      "mimetype": "text/x-python",
      "name": "python",
      "nbconvert_exporter": "python",
      "pygments_lexer": "ipython3",
      "version": "3.7.3"
    },
    "colab": {
      "name": "Speed_dating_final.ipynb",
      "provenance": []
    }
  },
  "cells": [
    {
      "cell_type": "markdown",
      "metadata": {
        "id": "ahiwATfpls-F"
      },
      "source": [
        "# Context\n",
        "\n",
        "What influences love at first sight? (Or, at least, love in the first four minutes?) This dataset was compiled by Columbia Business School professors Ray Fisman and Sheena Iyengar for their paper Gender Differences in Mate Selection: Evidence From a Speed Dating Experiment.\n",
        "\n",
        "Data was gathered from participants in experimental speed dating events from 2002-2004. During the events, the attendees would have a four minute \"first date\" with every other participant of the opposite sex. At the end of their four minutes, participants were asked if they would like to see their date again. They were also asked to rate their date on six attributes: Attractiveness, Sincerity, Intelligence, Fun, Ambition, and Shared Interests.\n",
        "\n",
        "The dataset also includes questionnaire data gathered from participants at different points in the process. These fields include: demographics, dating habits, self-perception across key attributes, beliefs on what others find valuable in a mate, and lifestyle information. See the Speed Dating Data Key document below for details.\n",
        "\n",
        "(To see more, follow this link https://www.kaggle.com/annavictoria/speed-dating-experiment#Speed%20Dating%20Data%20Key.doc)\n",
        "\n",
        "# Objective - Data Vizualisation\n",
        "\n",
        "What are the factors allowing someone to have a second date ?"
      ]
    },
    {
      "cell_type": "code",
      "metadata": {
        "id": "NyUSs3eeKu28"
      },
      "source": [
        "# Let's first import the usual libraries\n",
        "import pandas as pd\n",
        "import numpy as np\n",
        "import matplotlib.pyplot as plt\n",
        "import seaborn as sns\n",
        "import plotly.offline as py\n",
        "import plotly.graph_objs as go\n",
        "import plotly.tools as tls\n",
        "pd.options.display.max_rows = 1000 #handy for showing truncated results"
      ],
      "execution_count": 2,
      "outputs": []
    },
    {
      "cell_type": "code",
      "metadata": {
        "id": "O77RCexQKu2-",
        "colab": {
          "base_uri": "https://localhost:8080/",
          "height": 293
        },
        "outputId": "61a20dab-08a7-484a-deff-542b61eb9226"
      },
      "source": [
        "pip install plotly==4.5.4"
      ],
      "execution_count": 3,
      "outputs": [
        {
          "output_type": "stream",
          "text": [
            "Collecting plotly==4.5.4\n",
            "\u001b[?25l  Downloading https://files.pythonhosted.org/packages/f5/c3/03a183b94441da857e7d2b0564cb482bd15824dc1af2d2b337ea6e538c8f/plotly-4.5.4-py2.py3-none-any.whl (7.1MB)\n",
            "\u001b[K     |████████████████████████████████| 7.1MB 7.9MB/s \n",
            "\u001b[?25hRequirement already satisfied: six in /usr/local/lib/python3.6/dist-packages (from plotly==4.5.4) (1.15.0)\n",
            "Requirement already satisfied: retrying>=1.3.3 in /usr/local/lib/python3.6/dist-packages (from plotly==4.5.4) (1.3.3)\n",
            "Installing collected packages: plotly\n",
            "  Found existing installation: plotly 4.4.1\n",
            "    Uninstalling plotly-4.4.1:\n",
            "      Successfully uninstalled plotly-4.4.1\n",
            "Successfully installed plotly-4.5.4\n"
          ],
          "name": "stdout"
        },
        {
          "output_type": "display_data",
          "data": {
            "application/vnd.colab-display-data+json": {
              "pip_warning": {
                "packages": [
                  "_plotly_utils",
                  "plotly"
                ]
              }
            }
          },
          "metadata": {
            "tags": []
          }
        }
      ]
    },
    {
      "cell_type": "code",
      "metadata": {
        "id": "UFD729ELKu2-"
      },
      "source": [
        "database = pd.read_csv(\"/content/speed_dating.csv\", encoding = \"ISO-8859-1\")"
      ],
      "execution_count": 58,
      "outputs": []
    },
    {
      "cell_type": "code",
      "metadata": {
        "id": "TSnI0aAXKu2-",
        "colab": {
          "base_uri": "https://localhost:8080/",
          "height": 346
        },
        "outputId": "10256324-b72b-4878-c692-5131e3cc7789"
      },
      "source": [
        "# Let's have a first look at our dataset \n",
        "database.describe()"
      ],
      "execution_count": 6,
      "outputs": [
        {
          "output_type": "execute_result",
          "data": {
            "text/html": [
              "<div>\n",
              "<style scoped>\n",
              "    .dataframe tbody tr th:only-of-type {\n",
              "        vertical-align: middle;\n",
              "    }\n",
              "\n",
              "    .dataframe tbody tr th {\n",
              "        vertical-align: top;\n",
              "    }\n",
              "\n",
              "    .dataframe thead th {\n",
              "        text-align: right;\n",
              "    }\n",
              "</style>\n",
              "<table border=\"1\" class=\"dataframe\">\n",
              "  <thead>\n",
              "    <tr style=\"text-align: right;\">\n",
              "      <th></th>\n",
              "      <th>iid</th>\n",
              "      <th>id</th>\n",
              "      <th>gender</th>\n",
              "      <th>idg</th>\n",
              "      <th>condtn</th>\n",
              "      <th>wave</th>\n",
              "      <th>round</th>\n",
              "      <th>position</th>\n",
              "      <th>positin1</th>\n",
              "      <th>order</th>\n",
              "      <th>partner</th>\n",
              "      <th>pid</th>\n",
              "      <th>match</th>\n",
              "      <th>int_corr</th>\n",
              "      <th>samerace</th>\n",
              "      <th>age_o</th>\n",
              "      <th>race_o</th>\n",
              "      <th>pf_o_att</th>\n",
              "      <th>pf_o_sin</th>\n",
              "      <th>pf_o_int</th>\n",
              "      <th>pf_o_fun</th>\n",
              "      <th>pf_o_amb</th>\n",
              "      <th>pf_o_sha</th>\n",
              "      <th>dec_o</th>\n",
              "      <th>attr_o</th>\n",
              "      <th>sinc_o</th>\n",
              "      <th>intel_o</th>\n",
              "      <th>fun_o</th>\n",
              "      <th>amb_o</th>\n",
              "      <th>shar_o</th>\n",
              "      <th>like_o</th>\n",
              "      <th>prob_o</th>\n",
              "      <th>met_o</th>\n",
              "      <th>age</th>\n",
              "      <th>field_cd</th>\n",
              "      <th>race</th>\n",
              "      <th>imprace</th>\n",
              "      <th>imprelig</th>\n",
              "      <th>goal</th>\n",
              "      <th>date</th>\n",
              "      <th>...</th>\n",
              "      <th>amb5_2</th>\n",
              "      <th>you_call</th>\n",
              "      <th>them_cal</th>\n",
              "      <th>date_3</th>\n",
              "      <th>numdat_3</th>\n",
              "      <th>num_in_3</th>\n",
              "      <th>attr1_3</th>\n",
              "      <th>sinc1_3</th>\n",
              "      <th>intel1_3</th>\n",
              "      <th>fun1_3</th>\n",
              "      <th>amb1_3</th>\n",
              "      <th>shar1_3</th>\n",
              "      <th>attr7_3</th>\n",
              "      <th>sinc7_3</th>\n",
              "      <th>intel7_3</th>\n",
              "      <th>fun7_3</th>\n",
              "      <th>amb7_3</th>\n",
              "      <th>shar7_3</th>\n",
              "      <th>attr4_3</th>\n",
              "      <th>sinc4_3</th>\n",
              "      <th>intel4_3</th>\n",
              "      <th>fun4_3</th>\n",
              "      <th>amb4_3</th>\n",
              "      <th>shar4_3</th>\n",
              "      <th>attr2_3</th>\n",
              "      <th>sinc2_3</th>\n",
              "      <th>intel2_3</th>\n",
              "      <th>fun2_3</th>\n",
              "      <th>amb2_3</th>\n",
              "      <th>shar2_3</th>\n",
              "      <th>attr3_3</th>\n",
              "      <th>sinc3_3</th>\n",
              "      <th>intel3_3</th>\n",
              "      <th>fun3_3</th>\n",
              "      <th>amb3_3</th>\n",
              "      <th>attr5_3</th>\n",
              "      <th>sinc5_3</th>\n",
              "      <th>intel5_3</th>\n",
              "      <th>fun5_3</th>\n",
              "      <th>amb5_3</th>\n",
              "    </tr>\n",
              "  </thead>\n",
              "  <tbody>\n",
              "    <tr>\n",
              "      <th>count</th>\n",
              "      <td>8378.000000</td>\n",
              "      <td>8377.000000</td>\n",
              "      <td>8378.000000</td>\n",
              "      <td>8378.000000</td>\n",
              "      <td>8378.000000</td>\n",
              "      <td>8378.000000</td>\n",
              "      <td>8378.000000</td>\n",
              "      <td>8378.000000</td>\n",
              "      <td>6532.000000</td>\n",
              "      <td>8378.000000</td>\n",
              "      <td>8378.000000</td>\n",
              "      <td>8368.000000</td>\n",
              "      <td>8378.000000</td>\n",
              "      <td>8220.000000</td>\n",
              "      <td>8378.000000</td>\n",
              "      <td>8274.000000</td>\n",
              "      <td>8305.000000</td>\n",
              "      <td>8289.000000</td>\n",
              "      <td>8289.000000</td>\n",
              "      <td>8289.000000</td>\n",
              "      <td>8280.000000</td>\n",
              "      <td>8271.000000</td>\n",
              "      <td>8249.000000</td>\n",
              "      <td>8378.000000</td>\n",
              "      <td>8166.000000</td>\n",
              "      <td>8091.000000</td>\n",
              "      <td>8072.000000</td>\n",
              "      <td>8018.000000</td>\n",
              "      <td>7656.000000</td>\n",
              "      <td>7302.000000</td>\n",
              "      <td>8128.000000</td>\n",
              "      <td>8060.000000</td>\n",
              "      <td>7993.000000</td>\n",
              "      <td>8283.000000</td>\n",
              "      <td>8296.000000</td>\n",
              "      <td>8315.000000</td>\n",
              "      <td>8299.000000</td>\n",
              "      <td>8299.000000</td>\n",
              "      <td>8299.000000</td>\n",
              "      <td>8281.000000</td>\n",
              "      <td>...</td>\n",
              "      <td>4377.000000</td>\n",
              "      <td>3974.000000</td>\n",
              "      <td>3974.000000</td>\n",
              "      <td>3974.000000</td>\n",
              "      <td>1496.000000</td>\n",
              "      <td>668.000000</td>\n",
              "      <td>3974.000000</td>\n",
              "      <td>3974.000000</td>\n",
              "      <td>3974.000000</td>\n",
              "      <td>3974.000000</td>\n",
              "      <td>3974.000000</td>\n",
              "      <td>3974.000000</td>\n",
              "      <td>2016.000000</td>\n",
              "      <td>2016.000000</td>\n",
              "      <td>2016.000000</td>\n",
              "      <td>2016.000000</td>\n",
              "      <td>2016.000000</td>\n",
              "      <td>2016.000000</td>\n",
              "      <td>2959.000000</td>\n",
              "      <td>2959.000000</td>\n",
              "      <td>2959.000000</td>\n",
              "      <td>2959.000000</td>\n",
              "      <td>2959.000000</td>\n",
              "      <td>2959.000000</td>\n",
              "      <td>2959.000000</td>\n",
              "      <td>2959.000000</td>\n",
              "      <td>2959.000000</td>\n",
              "      <td>2959.000000</td>\n",
              "      <td>2959.000000</td>\n",
              "      <td>2016.000000</td>\n",
              "      <td>3974.000000</td>\n",
              "      <td>3974.000000</td>\n",
              "      <td>3974.000000</td>\n",
              "      <td>3974.000000</td>\n",
              "      <td>3974.000000</td>\n",
              "      <td>2016.000000</td>\n",
              "      <td>2016.000000</td>\n",
              "      <td>2016.000000</td>\n",
              "      <td>2016.000000</td>\n",
              "      <td>2016.000000</td>\n",
              "    </tr>\n",
              "    <tr>\n",
              "      <th>mean</th>\n",
              "      <td>283.675937</td>\n",
              "      <td>8.960248</td>\n",
              "      <td>0.500597</td>\n",
              "      <td>17.327166</td>\n",
              "      <td>1.828837</td>\n",
              "      <td>11.350919</td>\n",
              "      <td>16.872046</td>\n",
              "      <td>9.042731</td>\n",
              "      <td>9.295775</td>\n",
              "      <td>8.927668</td>\n",
              "      <td>8.963595</td>\n",
              "      <td>283.863767</td>\n",
              "      <td>0.164717</td>\n",
              "      <td>0.196010</td>\n",
              "      <td>0.395799</td>\n",
              "      <td>26.364999</td>\n",
              "      <td>2.756653</td>\n",
              "      <td>22.495347</td>\n",
              "      <td>17.396867</td>\n",
              "      <td>20.270759</td>\n",
              "      <td>17.459714</td>\n",
              "      <td>10.685375</td>\n",
              "      <td>11.845930</td>\n",
              "      <td>0.419551</td>\n",
              "      <td>6.190411</td>\n",
              "      <td>7.175256</td>\n",
              "      <td>7.369301</td>\n",
              "      <td>6.400599</td>\n",
              "      <td>6.778409</td>\n",
              "      <td>5.474870</td>\n",
              "      <td>6.134498</td>\n",
              "      <td>5.208251</td>\n",
              "      <td>1.960215</td>\n",
              "      <td>26.358928</td>\n",
              "      <td>7.662488</td>\n",
              "      <td>2.757186</td>\n",
              "      <td>3.784793</td>\n",
              "      <td>3.651645</td>\n",
              "      <td>2.122063</td>\n",
              "      <td>5.006762</td>\n",
              "      <td>...</td>\n",
              "      <td>7.332191</td>\n",
              "      <td>0.780825</td>\n",
              "      <td>0.981631</td>\n",
              "      <td>0.376950</td>\n",
              "      <td>1.230615</td>\n",
              "      <td>0.934132</td>\n",
              "      <td>24.384524</td>\n",
              "      <td>16.588583</td>\n",
              "      <td>19.411346</td>\n",
              "      <td>16.233415</td>\n",
              "      <td>10.898075</td>\n",
              "      <td>12.699142</td>\n",
              "      <td>31.330357</td>\n",
              "      <td>15.654266</td>\n",
              "      <td>16.679563</td>\n",
              "      <td>16.418155</td>\n",
              "      <td>7.823909</td>\n",
              "      <td>12.207837</td>\n",
              "      <td>25.610341</td>\n",
              "      <td>10.751267</td>\n",
              "      <td>11.524839</td>\n",
              "      <td>14.276783</td>\n",
              "      <td>9.207503</td>\n",
              "      <td>11.253802</td>\n",
              "      <td>24.970936</td>\n",
              "      <td>10.923285</td>\n",
              "      <td>11.952687</td>\n",
              "      <td>14.959108</td>\n",
              "      <td>9.526191</td>\n",
              "      <td>11.966270</td>\n",
              "      <td>7.240312</td>\n",
              "      <td>8.093357</td>\n",
              "      <td>8.388777</td>\n",
              "      <td>7.658782</td>\n",
              "      <td>7.391545</td>\n",
              "      <td>6.810020</td>\n",
              "      <td>7.615079</td>\n",
              "      <td>7.932540</td>\n",
              "      <td>7.155258</td>\n",
              "      <td>7.048611</td>\n",
              "    </tr>\n",
              "    <tr>\n",
              "      <th>std</th>\n",
              "      <td>158.583367</td>\n",
              "      <td>5.491329</td>\n",
              "      <td>0.500029</td>\n",
              "      <td>10.940735</td>\n",
              "      <td>0.376673</td>\n",
              "      <td>5.995903</td>\n",
              "      <td>4.358458</td>\n",
              "      <td>5.514939</td>\n",
              "      <td>5.650199</td>\n",
              "      <td>5.477009</td>\n",
              "      <td>5.491068</td>\n",
              "      <td>158.584899</td>\n",
              "      <td>0.370947</td>\n",
              "      <td>0.303539</td>\n",
              "      <td>0.489051</td>\n",
              "      <td>3.563648</td>\n",
              "      <td>1.230689</td>\n",
              "      <td>12.569802</td>\n",
              "      <td>7.044003</td>\n",
              "      <td>6.782895</td>\n",
              "      <td>6.085526</td>\n",
              "      <td>6.126544</td>\n",
              "      <td>6.362746</td>\n",
              "      <td>0.493515</td>\n",
              "      <td>1.950305</td>\n",
              "      <td>1.740575</td>\n",
              "      <td>1.550501</td>\n",
              "      <td>1.954078</td>\n",
              "      <td>1.794080</td>\n",
              "      <td>2.156163</td>\n",
              "      <td>1.841258</td>\n",
              "      <td>2.129354</td>\n",
              "      <td>0.245925</td>\n",
              "      <td>3.566763</td>\n",
              "      <td>3.758935</td>\n",
              "      <td>1.230905</td>\n",
              "      <td>2.845708</td>\n",
              "      <td>2.805237</td>\n",
              "      <td>1.407181</td>\n",
              "      <td>1.444531</td>\n",
              "      <td>...</td>\n",
              "      <td>1.521854</td>\n",
              "      <td>1.611694</td>\n",
              "      <td>1.382139</td>\n",
              "      <td>0.484683</td>\n",
              "      <td>1.294557</td>\n",
              "      <td>0.753902</td>\n",
              "      <td>13.712120</td>\n",
              "      <td>7.471537</td>\n",
              "      <td>6.124502</td>\n",
              "      <td>5.163777</td>\n",
              "      <td>5.900697</td>\n",
              "      <td>6.557041</td>\n",
              "      <td>17.551540</td>\n",
              "      <td>9.336288</td>\n",
              "      <td>7.880088</td>\n",
              "      <td>7.231325</td>\n",
              "      <td>6.100502</td>\n",
              "      <td>8.615985</td>\n",
              "      <td>17.477134</td>\n",
              "      <td>5.740351</td>\n",
              "      <td>6.004222</td>\n",
              "      <td>6.927869</td>\n",
              "      <td>6.385852</td>\n",
              "      <td>6.516178</td>\n",
              "      <td>17.007669</td>\n",
              "      <td>6.226283</td>\n",
              "      <td>7.010650</td>\n",
              "      <td>7.935509</td>\n",
              "      <td>6.403117</td>\n",
              "      <td>7.012067</td>\n",
              "      <td>1.576596</td>\n",
              "      <td>1.610309</td>\n",
              "      <td>1.459094</td>\n",
              "      <td>1.744670</td>\n",
              "      <td>1.961417</td>\n",
              "      <td>1.507341</td>\n",
              "      <td>1.504551</td>\n",
              "      <td>1.340868</td>\n",
              "      <td>1.672787</td>\n",
              "      <td>1.717988</td>\n",
              "    </tr>\n",
              "    <tr>\n",
              "      <th>min</th>\n",
              "      <td>1.000000</td>\n",
              "      <td>1.000000</td>\n",
              "      <td>0.000000</td>\n",
              "      <td>1.000000</td>\n",
              "      <td>1.000000</td>\n",
              "      <td>1.000000</td>\n",
              "      <td>5.000000</td>\n",
              "      <td>1.000000</td>\n",
              "      <td>1.000000</td>\n",
              "      <td>1.000000</td>\n",
              "      <td>1.000000</td>\n",
              "      <td>1.000000</td>\n",
              "      <td>0.000000</td>\n",
              "      <td>-0.830000</td>\n",
              "      <td>0.000000</td>\n",
              "      <td>18.000000</td>\n",
              "      <td>1.000000</td>\n",
              "      <td>0.000000</td>\n",
              "      <td>0.000000</td>\n",
              "      <td>0.000000</td>\n",
              "      <td>0.000000</td>\n",
              "      <td>0.000000</td>\n",
              "      <td>0.000000</td>\n",
              "      <td>0.000000</td>\n",
              "      <td>0.000000</td>\n",
              "      <td>0.000000</td>\n",
              "      <td>0.000000</td>\n",
              "      <td>0.000000</td>\n",
              "      <td>0.000000</td>\n",
              "      <td>0.000000</td>\n",
              "      <td>0.000000</td>\n",
              "      <td>0.000000</td>\n",
              "      <td>1.000000</td>\n",
              "      <td>18.000000</td>\n",
              "      <td>1.000000</td>\n",
              "      <td>1.000000</td>\n",
              "      <td>0.000000</td>\n",
              "      <td>1.000000</td>\n",
              "      <td>1.000000</td>\n",
              "      <td>1.000000</td>\n",
              "      <td>...</td>\n",
              "      <td>2.000000</td>\n",
              "      <td>0.000000</td>\n",
              "      <td>0.000000</td>\n",
              "      <td>0.000000</td>\n",
              "      <td>0.000000</td>\n",
              "      <td>0.000000</td>\n",
              "      <td>0.000000</td>\n",
              "      <td>0.000000</td>\n",
              "      <td>0.000000</td>\n",
              "      <td>0.000000</td>\n",
              "      <td>0.000000</td>\n",
              "      <td>0.000000</td>\n",
              "      <td>0.000000</td>\n",
              "      <td>0.000000</td>\n",
              "      <td>0.000000</td>\n",
              "      <td>0.000000</td>\n",
              "      <td>0.000000</td>\n",
              "      <td>0.000000</td>\n",
              "      <td>0.000000</td>\n",
              "      <td>0.000000</td>\n",
              "      <td>0.000000</td>\n",
              "      <td>0.000000</td>\n",
              "      <td>0.000000</td>\n",
              "      <td>0.000000</td>\n",
              "      <td>5.000000</td>\n",
              "      <td>0.000000</td>\n",
              "      <td>0.000000</td>\n",
              "      <td>0.000000</td>\n",
              "      <td>0.000000</td>\n",
              "      <td>0.000000</td>\n",
              "      <td>2.000000</td>\n",
              "      <td>2.000000</td>\n",
              "      <td>3.000000</td>\n",
              "      <td>2.000000</td>\n",
              "      <td>1.000000</td>\n",
              "      <td>2.000000</td>\n",
              "      <td>2.000000</td>\n",
              "      <td>4.000000</td>\n",
              "      <td>1.000000</td>\n",
              "      <td>1.000000</td>\n",
              "    </tr>\n",
              "    <tr>\n",
              "      <th>25%</th>\n",
              "      <td>154.000000</td>\n",
              "      <td>4.000000</td>\n",
              "      <td>0.000000</td>\n",
              "      <td>8.000000</td>\n",
              "      <td>2.000000</td>\n",
              "      <td>7.000000</td>\n",
              "      <td>14.000000</td>\n",
              "      <td>4.000000</td>\n",
              "      <td>4.000000</td>\n",
              "      <td>4.000000</td>\n",
              "      <td>4.000000</td>\n",
              "      <td>154.000000</td>\n",
              "      <td>0.000000</td>\n",
              "      <td>-0.020000</td>\n",
              "      <td>0.000000</td>\n",
              "      <td>24.000000</td>\n",
              "      <td>2.000000</td>\n",
              "      <td>15.000000</td>\n",
              "      <td>15.000000</td>\n",
              "      <td>17.390000</td>\n",
              "      <td>15.000000</td>\n",
              "      <td>5.000000</td>\n",
              "      <td>9.520000</td>\n",
              "      <td>0.000000</td>\n",
              "      <td>5.000000</td>\n",
              "      <td>6.000000</td>\n",
              "      <td>6.000000</td>\n",
              "      <td>5.000000</td>\n",
              "      <td>6.000000</td>\n",
              "      <td>4.000000</td>\n",
              "      <td>5.000000</td>\n",
              "      <td>4.000000</td>\n",
              "      <td>2.000000</td>\n",
              "      <td>24.000000</td>\n",
              "      <td>5.000000</td>\n",
              "      <td>2.000000</td>\n",
              "      <td>1.000000</td>\n",
              "      <td>1.000000</td>\n",
              "      <td>1.000000</td>\n",
              "      <td>4.000000</td>\n",
              "      <td>...</td>\n",
              "      <td>6.000000</td>\n",
              "      <td>0.000000</td>\n",
              "      <td>0.000000</td>\n",
              "      <td>0.000000</td>\n",
              "      <td>1.000000</td>\n",
              "      <td>1.000000</td>\n",
              "      <td>15.220000</td>\n",
              "      <td>10.000000</td>\n",
              "      <td>16.670000</td>\n",
              "      <td>14.810000</td>\n",
              "      <td>5.000000</td>\n",
              "      <td>10.000000</td>\n",
              "      <td>20.000000</td>\n",
              "      <td>10.000000</td>\n",
              "      <td>10.000000</td>\n",
              "      <td>10.000000</td>\n",
              "      <td>0.000000</td>\n",
              "      <td>5.000000</td>\n",
              "      <td>10.000000</td>\n",
              "      <td>7.000000</td>\n",
              "      <td>7.000000</td>\n",
              "      <td>9.000000</td>\n",
              "      <td>5.000000</td>\n",
              "      <td>7.000000</td>\n",
              "      <td>10.000000</td>\n",
              "      <td>7.000000</td>\n",
              "      <td>7.000000</td>\n",
              "      <td>9.000000</td>\n",
              "      <td>6.000000</td>\n",
              "      <td>5.000000</td>\n",
              "      <td>7.000000</td>\n",
              "      <td>7.000000</td>\n",
              "      <td>8.000000</td>\n",
              "      <td>7.000000</td>\n",
              "      <td>6.000000</td>\n",
              "      <td>6.000000</td>\n",
              "      <td>7.000000</td>\n",
              "      <td>7.000000</td>\n",
              "      <td>6.000000</td>\n",
              "      <td>6.000000</td>\n",
              "    </tr>\n",
              "    <tr>\n",
              "      <th>50%</th>\n",
              "      <td>281.000000</td>\n",
              "      <td>8.000000</td>\n",
              "      <td>1.000000</td>\n",
              "      <td>16.000000</td>\n",
              "      <td>2.000000</td>\n",
              "      <td>11.000000</td>\n",
              "      <td>18.000000</td>\n",
              "      <td>8.000000</td>\n",
              "      <td>9.000000</td>\n",
              "      <td>8.000000</td>\n",
              "      <td>8.000000</td>\n",
              "      <td>281.000000</td>\n",
              "      <td>0.000000</td>\n",
              "      <td>0.210000</td>\n",
              "      <td>0.000000</td>\n",
              "      <td>26.000000</td>\n",
              "      <td>2.000000</td>\n",
              "      <td>20.000000</td>\n",
              "      <td>18.370000</td>\n",
              "      <td>20.000000</td>\n",
              "      <td>18.000000</td>\n",
              "      <td>10.000000</td>\n",
              "      <td>10.640000</td>\n",
              "      <td>0.000000</td>\n",
              "      <td>6.000000</td>\n",
              "      <td>7.000000</td>\n",
              "      <td>7.000000</td>\n",
              "      <td>7.000000</td>\n",
              "      <td>7.000000</td>\n",
              "      <td>6.000000</td>\n",
              "      <td>6.000000</td>\n",
              "      <td>5.000000</td>\n",
              "      <td>2.000000</td>\n",
              "      <td>26.000000</td>\n",
              "      <td>8.000000</td>\n",
              "      <td>2.000000</td>\n",
              "      <td>3.000000</td>\n",
              "      <td>3.000000</td>\n",
              "      <td>2.000000</td>\n",
              "      <td>5.000000</td>\n",
              "      <td>...</td>\n",
              "      <td>7.000000</td>\n",
              "      <td>0.000000</td>\n",
              "      <td>1.000000</td>\n",
              "      <td>0.000000</td>\n",
              "      <td>1.000000</td>\n",
              "      <td>1.000000</td>\n",
              "      <td>20.000000</td>\n",
              "      <td>16.670000</td>\n",
              "      <td>20.000000</td>\n",
              "      <td>16.330000</td>\n",
              "      <td>10.000000</td>\n",
              "      <td>14.290000</td>\n",
              "      <td>25.000000</td>\n",
              "      <td>15.000000</td>\n",
              "      <td>18.000000</td>\n",
              "      <td>17.000000</td>\n",
              "      <td>10.000000</td>\n",
              "      <td>10.000000</td>\n",
              "      <td>20.000000</td>\n",
              "      <td>10.000000</td>\n",
              "      <td>10.000000</td>\n",
              "      <td>12.000000</td>\n",
              "      <td>9.000000</td>\n",
              "      <td>10.000000</td>\n",
              "      <td>20.000000</td>\n",
              "      <td>10.000000</td>\n",
              "      <td>10.000000</td>\n",
              "      <td>15.000000</td>\n",
              "      <td>10.000000</td>\n",
              "      <td>10.000000</td>\n",
              "      <td>7.000000</td>\n",
              "      <td>8.000000</td>\n",
              "      <td>8.000000</td>\n",
              "      <td>8.000000</td>\n",
              "      <td>8.000000</td>\n",
              "      <td>7.000000</td>\n",
              "      <td>8.000000</td>\n",
              "      <td>8.000000</td>\n",
              "      <td>7.000000</td>\n",
              "      <td>7.000000</td>\n",
              "    </tr>\n",
              "    <tr>\n",
              "      <th>75%</th>\n",
              "      <td>407.000000</td>\n",
              "      <td>13.000000</td>\n",
              "      <td>1.000000</td>\n",
              "      <td>26.000000</td>\n",
              "      <td>2.000000</td>\n",
              "      <td>15.000000</td>\n",
              "      <td>20.000000</td>\n",
              "      <td>13.000000</td>\n",
              "      <td>14.000000</td>\n",
              "      <td>13.000000</td>\n",
              "      <td>13.000000</td>\n",
              "      <td>408.000000</td>\n",
              "      <td>0.000000</td>\n",
              "      <td>0.430000</td>\n",
              "      <td>1.000000</td>\n",
              "      <td>28.000000</td>\n",
              "      <td>4.000000</td>\n",
              "      <td>25.000000</td>\n",
              "      <td>20.000000</td>\n",
              "      <td>23.810000</td>\n",
              "      <td>20.000000</td>\n",
              "      <td>15.000000</td>\n",
              "      <td>16.000000</td>\n",
              "      <td>1.000000</td>\n",
              "      <td>8.000000</td>\n",
              "      <td>8.000000</td>\n",
              "      <td>8.000000</td>\n",
              "      <td>8.000000</td>\n",
              "      <td>8.000000</td>\n",
              "      <td>7.000000</td>\n",
              "      <td>7.000000</td>\n",
              "      <td>7.000000</td>\n",
              "      <td>2.000000</td>\n",
              "      <td>28.000000</td>\n",
              "      <td>10.000000</td>\n",
              "      <td>4.000000</td>\n",
              "      <td>6.000000</td>\n",
              "      <td>6.000000</td>\n",
              "      <td>2.000000</td>\n",
              "      <td>6.000000</td>\n",
              "      <td>...</td>\n",
              "      <td>8.000000</td>\n",
              "      <td>1.000000</td>\n",
              "      <td>1.000000</td>\n",
              "      <td>1.000000</td>\n",
              "      <td>1.000000</td>\n",
              "      <td>1.000000</td>\n",
              "      <td>30.000000</td>\n",
              "      <td>20.000000</td>\n",
              "      <td>20.000000</td>\n",
              "      <td>20.000000</td>\n",
              "      <td>15.000000</td>\n",
              "      <td>16.670000</td>\n",
              "      <td>40.000000</td>\n",
              "      <td>20.000000</td>\n",
              "      <td>20.000000</td>\n",
              "      <td>20.000000</td>\n",
              "      <td>10.000000</td>\n",
              "      <td>20.000000</td>\n",
              "      <td>37.000000</td>\n",
              "      <td>15.000000</td>\n",
              "      <td>15.000000</td>\n",
              "      <td>20.000000</td>\n",
              "      <td>10.000000</td>\n",
              "      <td>15.000000</td>\n",
              "      <td>35.000000</td>\n",
              "      <td>15.000000</td>\n",
              "      <td>15.000000</td>\n",
              "      <td>20.000000</td>\n",
              "      <td>10.000000</td>\n",
              "      <td>15.000000</td>\n",
              "      <td>8.000000</td>\n",
              "      <td>9.000000</td>\n",
              "      <td>9.000000</td>\n",
              "      <td>9.000000</td>\n",
              "      <td>9.000000</td>\n",
              "      <td>8.000000</td>\n",
              "      <td>9.000000</td>\n",
              "      <td>9.000000</td>\n",
              "      <td>8.000000</td>\n",
              "      <td>8.000000</td>\n",
              "    </tr>\n",
              "    <tr>\n",
              "      <th>max</th>\n",
              "      <td>552.000000</td>\n",
              "      <td>22.000000</td>\n",
              "      <td>1.000000</td>\n",
              "      <td>44.000000</td>\n",
              "      <td>2.000000</td>\n",
              "      <td>21.000000</td>\n",
              "      <td>22.000000</td>\n",
              "      <td>22.000000</td>\n",
              "      <td>22.000000</td>\n",
              "      <td>22.000000</td>\n",
              "      <td>22.000000</td>\n",
              "      <td>552.000000</td>\n",
              "      <td>1.000000</td>\n",
              "      <td>0.910000</td>\n",
              "      <td>1.000000</td>\n",
              "      <td>55.000000</td>\n",
              "      <td>6.000000</td>\n",
              "      <td>100.000000</td>\n",
              "      <td>60.000000</td>\n",
              "      <td>50.000000</td>\n",
              "      <td>50.000000</td>\n",
              "      <td>53.000000</td>\n",
              "      <td>30.000000</td>\n",
              "      <td>1.000000</td>\n",
              "      <td>10.500000</td>\n",
              "      <td>10.000000</td>\n",
              "      <td>10.000000</td>\n",
              "      <td>11.000000</td>\n",
              "      <td>10.000000</td>\n",
              "      <td>10.000000</td>\n",
              "      <td>10.000000</td>\n",
              "      <td>10.000000</td>\n",
              "      <td>8.000000</td>\n",
              "      <td>55.000000</td>\n",
              "      <td>18.000000</td>\n",
              "      <td>6.000000</td>\n",
              "      <td>10.000000</td>\n",
              "      <td>10.000000</td>\n",
              "      <td>6.000000</td>\n",
              "      <td>7.000000</td>\n",
              "      <td>...</td>\n",
              "      <td>10.000000</td>\n",
              "      <td>21.000000</td>\n",
              "      <td>9.000000</td>\n",
              "      <td>1.000000</td>\n",
              "      <td>9.000000</td>\n",
              "      <td>4.000000</td>\n",
              "      <td>80.000000</td>\n",
              "      <td>65.000000</td>\n",
              "      <td>45.000000</td>\n",
              "      <td>30.000000</td>\n",
              "      <td>30.000000</td>\n",
              "      <td>55.000000</td>\n",
              "      <td>80.000000</td>\n",
              "      <td>60.000000</td>\n",
              "      <td>45.000000</td>\n",
              "      <td>40.000000</td>\n",
              "      <td>30.000000</td>\n",
              "      <td>55.000000</td>\n",
              "      <td>80.000000</td>\n",
              "      <td>40.000000</td>\n",
              "      <td>30.000000</td>\n",
              "      <td>30.000000</td>\n",
              "      <td>40.000000</td>\n",
              "      <td>45.000000</td>\n",
              "      <td>80.000000</td>\n",
              "      <td>50.000000</td>\n",
              "      <td>60.000000</td>\n",
              "      <td>40.000000</td>\n",
              "      <td>50.000000</td>\n",
              "      <td>45.000000</td>\n",
              "      <td>12.000000</td>\n",
              "      <td>12.000000</td>\n",
              "      <td>12.000000</td>\n",
              "      <td>12.000000</td>\n",
              "      <td>12.000000</td>\n",
              "      <td>10.000000</td>\n",
              "      <td>10.000000</td>\n",
              "      <td>10.000000</td>\n",
              "      <td>10.000000</td>\n",
              "      <td>10.000000</td>\n",
              "    </tr>\n",
              "  </tbody>\n",
              "</table>\n",
              "<p>8 rows × 187 columns</p>\n",
              "</div>"
            ],
            "text/plain": [
              "               iid           id  ...       fun5_3       amb5_3\n",
              "count  8378.000000  8377.000000  ...  2016.000000  2016.000000\n",
              "mean    283.675937     8.960248  ...     7.155258     7.048611\n",
              "std     158.583367     5.491329  ...     1.672787     1.717988\n",
              "min       1.000000     1.000000  ...     1.000000     1.000000\n",
              "25%     154.000000     4.000000  ...     6.000000     6.000000\n",
              "50%     281.000000     8.000000  ...     7.000000     7.000000\n",
              "75%     407.000000    13.000000  ...     8.000000     8.000000\n",
              "max     552.000000    22.000000  ...    10.000000    10.000000\n",
              "\n",
              "[8 rows x 187 columns]"
            ]
          },
          "metadata": {
            "tags": []
          },
          "execution_count": 6
        }
      ]
    },
    {
      "cell_type": "code",
      "metadata": {
        "colab": {
          "base_uri": "https://localhost:8080/"
        },
        "id": "rPQpJJnXnX60",
        "outputId": "fd7a6a01-e6a3-4131-ebc0-697b691ab985"
      },
      "source": [
        "database.shape"
      ],
      "execution_count": 7,
      "outputs": [
        {
          "output_type": "execute_result",
          "data": {
            "text/plain": [
              "(8378, 195)"
            ]
          },
          "metadata": {
            "tags": []
          },
          "execution_count": 7
        }
      ]
    },
    {
      "cell_type": "code",
      "metadata": {
        "colab": {
          "base_uri": "https://localhost:8080/",
          "height": 253
        },
        "id": "tke0BM1Cn3kx",
        "outputId": "1823c44b-8e6b-4d77-bc62-26d25f74493e"
      },
      "source": [
        "database.head()"
      ],
      "execution_count": 8,
      "outputs": [
        {
          "output_type": "execute_result",
          "data": {
            "text/html": [
              "<div>\n",
              "<style scoped>\n",
              "    .dataframe tbody tr th:only-of-type {\n",
              "        vertical-align: middle;\n",
              "    }\n",
              "\n",
              "    .dataframe tbody tr th {\n",
              "        vertical-align: top;\n",
              "    }\n",
              "\n",
              "    .dataframe thead th {\n",
              "        text-align: right;\n",
              "    }\n",
              "</style>\n",
              "<table border=\"1\" class=\"dataframe\">\n",
              "  <thead>\n",
              "    <tr style=\"text-align: right;\">\n",
              "      <th></th>\n",
              "      <th>iid</th>\n",
              "      <th>id</th>\n",
              "      <th>gender</th>\n",
              "      <th>idg</th>\n",
              "      <th>condtn</th>\n",
              "      <th>wave</th>\n",
              "      <th>round</th>\n",
              "      <th>position</th>\n",
              "      <th>positin1</th>\n",
              "      <th>order</th>\n",
              "      <th>partner</th>\n",
              "      <th>pid</th>\n",
              "      <th>match</th>\n",
              "      <th>int_corr</th>\n",
              "      <th>samerace</th>\n",
              "      <th>age_o</th>\n",
              "      <th>race_o</th>\n",
              "      <th>pf_o_att</th>\n",
              "      <th>pf_o_sin</th>\n",
              "      <th>pf_o_int</th>\n",
              "      <th>pf_o_fun</th>\n",
              "      <th>pf_o_amb</th>\n",
              "      <th>pf_o_sha</th>\n",
              "      <th>dec_o</th>\n",
              "      <th>attr_o</th>\n",
              "      <th>sinc_o</th>\n",
              "      <th>intel_o</th>\n",
              "      <th>fun_o</th>\n",
              "      <th>amb_o</th>\n",
              "      <th>shar_o</th>\n",
              "      <th>like_o</th>\n",
              "      <th>prob_o</th>\n",
              "      <th>met_o</th>\n",
              "      <th>age</th>\n",
              "      <th>field</th>\n",
              "      <th>field_cd</th>\n",
              "      <th>undergra</th>\n",
              "      <th>mn_sat</th>\n",
              "      <th>tuition</th>\n",
              "      <th>race</th>\n",
              "      <th>...</th>\n",
              "      <th>amb5_2</th>\n",
              "      <th>you_call</th>\n",
              "      <th>them_cal</th>\n",
              "      <th>date_3</th>\n",
              "      <th>numdat_3</th>\n",
              "      <th>num_in_3</th>\n",
              "      <th>attr1_3</th>\n",
              "      <th>sinc1_3</th>\n",
              "      <th>intel1_3</th>\n",
              "      <th>fun1_3</th>\n",
              "      <th>amb1_3</th>\n",
              "      <th>shar1_3</th>\n",
              "      <th>attr7_3</th>\n",
              "      <th>sinc7_3</th>\n",
              "      <th>intel7_3</th>\n",
              "      <th>fun7_3</th>\n",
              "      <th>amb7_3</th>\n",
              "      <th>shar7_3</th>\n",
              "      <th>attr4_3</th>\n",
              "      <th>sinc4_3</th>\n",
              "      <th>intel4_3</th>\n",
              "      <th>fun4_3</th>\n",
              "      <th>amb4_3</th>\n",
              "      <th>shar4_3</th>\n",
              "      <th>attr2_3</th>\n",
              "      <th>sinc2_3</th>\n",
              "      <th>intel2_3</th>\n",
              "      <th>fun2_3</th>\n",
              "      <th>amb2_3</th>\n",
              "      <th>shar2_3</th>\n",
              "      <th>attr3_3</th>\n",
              "      <th>sinc3_3</th>\n",
              "      <th>intel3_3</th>\n",
              "      <th>fun3_3</th>\n",
              "      <th>amb3_3</th>\n",
              "      <th>attr5_3</th>\n",
              "      <th>sinc5_3</th>\n",
              "      <th>intel5_3</th>\n",
              "      <th>fun5_3</th>\n",
              "      <th>amb5_3</th>\n",
              "    </tr>\n",
              "  </thead>\n",
              "  <tbody>\n",
              "    <tr>\n",
              "      <th>0</th>\n",
              "      <td>1</td>\n",
              "      <td>1.0</td>\n",
              "      <td>0</td>\n",
              "      <td>1</td>\n",
              "      <td>1</td>\n",
              "      <td>1</td>\n",
              "      <td>10</td>\n",
              "      <td>7</td>\n",
              "      <td>NaN</td>\n",
              "      <td>4</td>\n",
              "      <td>1</td>\n",
              "      <td>11.0</td>\n",
              "      <td>0</td>\n",
              "      <td>0.14</td>\n",
              "      <td>0</td>\n",
              "      <td>27.0</td>\n",
              "      <td>2.0</td>\n",
              "      <td>35.0</td>\n",
              "      <td>20.0</td>\n",
              "      <td>20.0</td>\n",
              "      <td>20.0</td>\n",
              "      <td>0.0</td>\n",
              "      <td>5.0</td>\n",
              "      <td>0</td>\n",
              "      <td>6.0</td>\n",
              "      <td>8.0</td>\n",
              "      <td>8.0</td>\n",
              "      <td>8.0</td>\n",
              "      <td>8.0</td>\n",
              "      <td>6.0</td>\n",
              "      <td>7.0</td>\n",
              "      <td>4.0</td>\n",
              "      <td>2.0</td>\n",
              "      <td>21.0</td>\n",
              "      <td>Law</td>\n",
              "      <td>1.0</td>\n",
              "      <td>NaN</td>\n",
              "      <td>NaN</td>\n",
              "      <td>NaN</td>\n",
              "      <td>4.0</td>\n",
              "      <td>...</td>\n",
              "      <td>NaN</td>\n",
              "      <td>1.0</td>\n",
              "      <td>1.0</td>\n",
              "      <td>0.0</td>\n",
              "      <td>NaN</td>\n",
              "      <td>NaN</td>\n",
              "      <td>15.0</td>\n",
              "      <td>20.0</td>\n",
              "      <td>20.0</td>\n",
              "      <td>15.0</td>\n",
              "      <td>15.0</td>\n",
              "      <td>15.0</td>\n",
              "      <td>NaN</td>\n",
              "      <td>NaN</td>\n",
              "      <td>NaN</td>\n",
              "      <td>NaN</td>\n",
              "      <td>NaN</td>\n",
              "      <td>NaN</td>\n",
              "      <td>NaN</td>\n",
              "      <td>NaN</td>\n",
              "      <td>NaN</td>\n",
              "      <td>NaN</td>\n",
              "      <td>NaN</td>\n",
              "      <td>NaN</td>\n",
              "      <td>NaN</td>\n",
              "      <td>NaN</td>\n",
              "      <td>NaN</td>\n",
              "      <td>NaN</td>\n",
              "      <td>NaN</td>\n",
              "      <td>NaN</td>\n",
              "      <td>5.0</td>\n",
              "      <td>7.0</td>\n",
              "      <td>7.0</td>\n",
              "      <td>7.0</td>\n",
              "      <td>7.0</td>\n",
              "      <td>NaN</td>\n",
              "      <td>NaN</td>\n",
              "      <td>NaN</td>\n",
              "      <td>NaN</td>\n",
              "      <td>NaN</td>\n",
              "    </tr>\n",
              "    <tr>\n",
              "      <th>1</th>\n",
              "      <td>1</td>\n",
              "      <td>1.0</td>\n",
              "      <td>0</td>\n",
              "      <td>1</td>\n",
              "      <td>1</td>\n",
              "      <td>1</td>\n",
              "      <td>10</td>\n",
              "      <td>7</td>\n",
              "      <td>NaN</td>\n",
              "      <td>3</td>\n",
              "      <td>2</td>\n",
              "      <td>12.0</td>\n",
              "      <td>0</td>\n",
              "      <td>0.54</td>\n",
              "      <td>0</td>\n",
              "      <td>22.0</td>\n",
              "      <td>2.0</td>\n",
              "      <td>60.0</td>\n",
              "      <td>0.0</td>\n",
              "      <td>0.0</td>\n",
              "      <td>40.0</td>\n",
              "      <td>0.0</td>\n",
              "      <td>0.0</td>\n",
              "      <td>0</td>\n",
              "      <td>7.0</td>\n",
              "      <td>8.0</td>\n",
              "      <td>10.0</td>\n",
              "      <td>7.0</td>\n",
              "      <td>7.0</td>\n",
              "      <td>5.0</td>\n",
              "      <td>8.0</td>\n",
              "      <td>4.0</td>\n",
              "      <td>2.0</td>\n",
              "      <td>21.0</td>\n",
              "      <td>Law</td>\n",
              "      <td>1.0</td>\n",
              "      <td>NaN</td>\n",
              "      <td>NaN</td>\n",
              "      <td>NaN</td>\n",
              "      <td>4.0</td>\n",
              "      <td>...</td>\n",
              "      <td>NaN</td>\n",
              "      <td>1.0</td>\n",
              "      <td>1.0</td>\n",
              "      <td>0.0</td>\n",
              "      <td>NaN</td>\n",
              "      <td>NaN</td>\n",
              "      <td>15.0</td>\n",
              "      <td>20.0</td>\n",
              "      <td>20.0</td>\n",
              "      <td>15.0</td>\n",
              "      <td>15.0</td>\n",
              "      <td>15.0</td>\n",
              "      <td>NaN</td>\n",
              "      <td>NaN</td>\n",
              "      <td>NaN</td>\n",
              "      <td>NaN</td>\n",
              "      <td>NaN</td>\n",
              "      <td>NaN</td>\n",
              "      <td>NaN</td>\n",
              "      <td>NaN</td>\n",
              "      <td>NaN</td>\n",
              "      <td>NaN</td>\n",
              "      <td>NaN</td>\n",
              "      <td>NaN</td>\n",
              "      <td>NaN</td>\n",
              "      <td>NaN</td>\n",
              "      <td>NaN</td>\n",
              "      <td>NaN</td>\n",
              "      <td>NaN</td>\n",
              "      <td>NaN</td>\n",
              "      <td>5.0</td>\n",
              "      <td>7.0</td>\n",
              "      <td>7.0</td>\n",
              "      <td>7.0</td>\n",
              "      <td>7.0</td>\n",
              "      <td>NaN</td>\n",
              "      <td>NaN</td>\n",
              "      <td>NaN</td>\n",
              "      <td>NaN</td>\n",
              "      <td>NaN</td>\n",
              "    </tr>\n",
              "    <tr>\n",
              "      <th>2</th>\n",
              "      <td>1</td>\n",
              "      <td>1.0</td>\n",
              "      <td>0</td>\n",
              "      <td>1</td>\n",
              "      <td>1</td>\n",
              "      <td>1</td>\n",
              "      <td>10</td>\n",
              "      <td>7</td>\n",
              "      <td>NaN</td>\n",
              "      <td>10</td>\n",
              "      <td>3</td>\n",
              "      <td>13.0</td>\n",
              "      <td>1</td>\n",
              "      <td>0.16</td>\n",
              "      <td>1</td>\n",
              "      <td>22.0</td>\n",
              "      <td>4.0</td>\n",
              "      <td>19.0</td>\n",
              "      <td>18.0</td>\n",
              "      <td>19.0</td>\n",
              "      <td>18.0</td>\n",
              "      <td>14.0</td>\n",
              "      <td>12.0</td>\n",
              "      <td>1</td>\n",
              "      <td>10.0</td>\n",
              "      <td>10.0</td>\n",
              "      <td>10.0</td>\n",
              "      <td>10.0</td>\n",
              "      <td>10.0</td>\n",
              "      <td>10.0</td>\n",
              "      <td>10.0</td>\n",
              "      <td>10.0</td>\n",
              "      <td>1.0</td>\n",
              "      <td>21.0</td>\n",
              "      <td>Law</td>\n",
              "      <td>1.0</td>\n",
              "      <td>NaN</td>\n",
              "      <td>NaN</td>\n",
              "      <td>NaN</td>\n",
              "      <td>4.0</td>\n",
              "      <td>...</td>\n",
              "      <td>NaN</td>\n",
              "      <td>1.0</td>\n",
              "      <td>1.0</td>\n",
              "      <td>0.0</td>\n",
              "      <td>NaN</td>\n",
              "      <td>NaN</td>\n",
              "      <td>15.0</td>\n",
              "      <td>20.0</td>\n",
              "      <td>20.0</td>\n",
              "      <td>15.0</td>\n",
              "      <td>15.0</td>\n",
              "      <td>15.0</td>\n",
              "      <td>NaN</td>\n",
              "      <td>NaN</td>\n",
              "      <td>NaN</td>\n",
              "      <td>NaN</td>\n",
              "      <td>NaN</td>\n",
              "      <td>NaN</td>\n",
              "      <td>NaN</td>\n",
              "      <td>NaN</td>\n",
              "      <td>NaN</td>\n",
              "      <td>NaN</td>\n",
              "      <td>NaN</td>\n",
              "      <td>NaN</td>\n",
              "      <td>NaN</td>\n",
              "      <td>NaN</td>\n",
              "      <td>NaN</td>\n",
              "      <td>NaN</td>\n",
              "      <td>NaN</td>\n",
              "      <td>NaN</td>\n",
              "      <td>5.0</td>\n",
              "      <td>7.0</td>\n",
              "      <td>7.0</td>\n",
              "      <td>7.0</td>\n",
              "      <td>7.0</td>\n",
              "      <td>NaN</td>\n",
              "      <td>NaN</td>\n",
              "      <td>NaN</td>\n",
              "      <td>NaN</td>\n",
              "      <td>NaN</td>\n",
              "    </tr>\n",
              "    <tr>\n",
              "      <th>3</th>\n",
              "      <td>1</td>\n",
              "      <td>1.0</td>\n",
              "      <td>0</td>\n",
              "      <td>1</td>\n",
              "      <td>1</td>\n",
              "      <td>1</td>\n",
              "      <td>10</td>\n",
              "      <td>7</td>\n",
              "      <td>NaN</td>\n",
              "      <td>5</td>\n",
              "      <td>4</td>\n",
              "      <td>14.0</td>\n",
              "      <td>1</td>\n",
              "      <td>0.61</td>\n",
              "      <td>0</td>\n",
              "      <td>23.0</td>\n",
              "      <td>2.0</td>\n",
              "      <td>30.0</td>\n",
              "      <td>5.0</td>\n",
              "      <td>15.0</td>\n",
              "      <td>40.0</td>\n",
              "      <td>5.0</td>\n",
              "      <td>5.0</td>\n",
              "      <td>1</td>\n",
              "      <td>7.0</td>\n",
              "      <td>8.0</td>\n",
              "      <td>9.0</td>\n",
              "      <td>8.0</td>\n",
              "      <td>9.0</td>\n",
              "      <td>8.0</td>\n",
              "      <td>7.0</td>\n",
              "      <td>7.0</td>\n",
              "      <td>2.0</td>\n",
              "      <td>21.0</td>\n",
              "      <td>Law</td>\n",
              "      <td>1.0</td>\n",
              "      <td>NaN</td>\n",
              "      <td>NaN</td>\n",
              "      <td>NaN</td>\n",
              "      <td>4.0</td>\n",
              "      <td>...</td>\n",
              "      <td>NaN</td>\n",
              "      <td>1.0</td>\n",
              "      <td>1.0</td>\n",
              "      <td>0.0</td>\n",
              "      <td>NaN</td>\n",
              "      <td>NaN</td>\n",
              "      <td>15.0</td>\n",
              "      <td>20.0</td>\n",
              "      <td>20.0</td>\n",
              "      <td>15.0</td>\n",
              "      <td>15.0</td>\n",
              "      <td>15.0</td>\n",
              "      <td>NaN</td>\n",
              "      <td>NaN</td>\n",
              "      <td>NaN</td>\n",
              "      <td>NaN</td>\n",
              "      <td>NaN</td>\n",
              "      <td>NaN</td>\n",
              "      <td>NaN</td>\n",
              "      <td>NaN</td>\n",
              "      <td>NaN</td>\n",
              "      <td>NaN</td>\n",
              "      <td>NaN</td>\n",
              "      <td>NaN</td>\n",
              "      <td>NaN</td>\n",
              "      <td>NaN</td>\n",
              "      <td>NaN</td>\n",
              "      <td>NaN</td>\n",
              "      <td>NaN</td>\n",
              "      <td>NaN</td>\n",
              "      <td>5.0</td>\n",
              "      <td>7.0</td>\n",
              "      <td>7.0</td>\n",
              "      <td>7.0</td>\n",
              "      <td>7.0</td>\n",
              "      <td>NaN</td>\n",
              "      <td>NaN</td>\n",
              "      <td>NaN</td>\n",
              "      <td>NaN</td>\n",
              "      <td>NaN</td>\n",
              "    </tr>\n",
              "    <tr>\n",
              "      <th>4</th>\n",
              "      <td>1</td>\n",
              "      <td>1.0</td>\n",
              "      <td>0</td>\n",
              "      <td>1</td>\n",
              "      <td>1</td>\n",
              "      <td>1</td>\n",
              "      <td>10</td>\n",
              "      <td>7</td>\n",
              "      <td>NaN</td>\n",
              "      <td>7</td>\n",
              "      <td>5</td>\n",
              "      <td>15.0</td>\n",
              "      <td>1</td>\n",
              "      <td>0.21</td>\n",
              "      <td>0</td>\n",
              "      <td>24.0</td>\n",
              "      <td>3.0</td>\n",
              "      <td>30.0</td>\n",
              "      <td>10.0</td>\n",
              "      <td>20.0</td>\n",
              "      <td>10.0</td>\n",
              "      <td>10.0</td>\n",
              "      <td>20.0</td>\n",
              "      <td>1</td>\n",
              "      <td>8.0</td>\n",
              "      <td>7.0</td>\n",
              "      <td>9.0</td>\n",
              "      <td>6.0</td>\n",
              "      <td>9.0</td>\n",
              "      <td>7.0</td>\n",
              "      <td>8.0</td>\n",
              "      <td>6.0</td>\n",
              "      <td>2.0</td>\n",
              "      <td>21.0</td>\n",
              "      <td>Law</td>\n",
              "      <td>1.0</td>\n",
              "      <td>NaN</td>\n",
              "      <td>NaN</td>\n",
              "      <td>NaN</td>\n",
              "      <td>4.0</td>\n",
              "      <td>...</td>\n",
              "      <td>NaN</td>\n",
              "      <td>1.0</td>\n",
              "      <td>1.0</td>\n",
              "      <td>0.0</td>\n",
              "      <td>NaN</td>\n",
              "      <td>NaN</td>\n",
              "      <td>15.0</td>\n",
              "      <td>20.0</td>\n",
              "      <td>20.0</td>\n",
              "      <td>15.0</td>\n",
              "      <td>15.0</td>\n",
              "      <td>15.0</td>\n",
              "      <td>NaN</td>\n",
              "      <td>NaN</td>\n",
              "      <td>NaN</td>\n",
              "      <td>NaN</td>\n",
              "      <td>NaN</td>\n",
              "      <td>NaN</td>\n",
              "      <td>NaN</td>\n",
              "      <td>NaN</td>\n",
              "      <td>NaN</td>\n",
              "      <td>NaN</td>\n",
              "      <td>NaN</td>\n",
              "      <td>NaN</td>\n",
              "      <td>NaN</td>\n",
              "      <td>NaN</td>\n",
              "      <td>NaN</td>\n",
              "      <td>NaN</td>\n",
              "      <td>NaN</td>\n",
              "      <td>NaN</td>\n",
              "      <td>5.0</td>\n",
              "      <td>7.0</td>\n",
              "      <td>7.0</td>\n",
              "      <td>7.0</td>\n",
              "      <td>7.0</td>\n",
              "      <td>NaN</td>\n",
              "      <td>NaN</td>\n",
              "      <td>NaN</td>\n",
              "      <td>NaN</td>\n",
              "      <td>NaN</td>\n",
              "    </tr>\n",
              "  </tbody>\n",
              "</table>\n",
              "<p>5 rows × 195 columns</p>\n",
              "</div>"
            ],
            "text/plain": [
              "   iid   id  gender  idg  condtn  ...  attr5_3  sinc5_3  intel5_3  fun5_3  amb5_3\n",
              "0    1  1.0       0    1       1  ...      NaN      NaN       NaN     NaN     NaN\n",
              "1    1  1.0       0    1       1  ...      NaN      NaN       NaN     NaN     NaN\n",
              "2    1  1.0       0    1       1  ...      NaN      NaN       NaN     NaN     NaN\n",
              "3    1  1.0       0    1       1  ...      NaN      NaN       NaN     NaN     NaN\n",
              "4    1  1.0       0    1       1  ...      NaN      NaN       NaN     NaN     NaN\n",
              "\n",
              "[5 rows x 195 columns]"
            ]
          },
          "metadata": {
            "tags": []
          },
          "execution_count": 8
        }
      ]
    },
    {
      "cell_type": "code",
      "metadata": {
        "colab": {
          "base_uri": "https://localhost:8080/",
          "height": 279
        },
        "id": "u9usgfx9qvtE",
        "outputId": "6cfb6b20-71a8-4189-ef96-b4f3dde805c3"
      },
      "source": [
        "# Let's have a look at the age of the participants\n",
        "age = database['age']\n",
        "plt.hist(age.values)\n",
        "plt.xlabel('Age')\n",
        "plt.ylabel('Frequency')\n",
        "plt.show()"
      ],
      "execution_count": 9,
      "outputs": [
        {
          "output_type": "display_data",
          "data": {
            "image/png": "[encoded data removed]",
            "text/plain": [
              "<Figure size 432x288 with 1 Axes>"
            ]
          },
          "metadata": {
            "tags": [],
            "needs_background": "light"
          }
        }
      ]
    },
    {
      "cell_type": "code",
      "metadata": {
        "id": "0HurrS-XKu3B",
        "colab": {
          "base_uri": "https://localhost:8080/",
          "height": 296
        },
        "outputId": "b240107d-2e6b-46e7-b4ac-1b5625f4575d"
      },
      "source": [
        "# Looking at the distribution by gender\n",
        "plt.figure(figsize=(8,4))\n",
        "sns.countplot(x='gender', data=database)"
      ],
      "execution_count": 10,
      "outputs": [
        {
          "output_type": "execute_result",
          "data": {
            "text/plain": [
              "<matplotlib.axes._subplots.AxesSubplot at 0x7fa839e40518>"
            ]
          },
          "metadata": {
            "tags": []
          },
          "execution_count": 10
        },
        {
          "output_type": "display_data",
          "data": {
            "image/png": "[encoded data removed]",
            "text/plain": [
              "<Figure size 576x288 with 1 Axes>"
            ]
          },
          "metadata": {
            "tags": [],
            "needs_background": "light"
          }
        }
      ]
    },
    {
      "cell_type": "markdown",
      "metadata": {
        "id": "WiUD3gAr4A3G"
      },
      "source": [
        "It appears that most people where aged between 20 to 30 years old and the number of men and women are equal."
      ]
    },
    {
      "cell_type": "code",
      "metadata": {
        "colab": {
          "base_uri": "https://localhost:8080/"
        },
        "id": "9QwVT8Q33_9Y",
        "outputId": "88a8ec7a-322a-4eae-e9d9-f7dea4f00abb"
      },
      "source": [
        "# Let's have a look at the number of people who found a second date\n",
        "match = pd.crosstab(index=database['match'], columns='count')\n",
        "match_p =((match.values[1]/(match.values[1]+match.values[0]))*100).round(1)\n",
        "print(\"It looks like only {} % found a second date\".format(*match_p))"
      ],
      "execution_count": 11,
      "outputs": [
        {
          "output_type": "stream",
          "text": [
            "It looks like only 16.5 % found a second date\n"
          ],
          "name": "stdout"
        }
      ]
    },
    {
      "cell_type": "markdown",
      "metadata": {
        "id": "ZokvEHXnndDM"
      },
      "source": [
        "We have a lot of data, let's now have a look at the integrity of our dataset by checking out the number of missing values "
      ]
    },
    {
      "cell_type": "code",
      "metadata": {
        "id": "EISn6rrEKu2_",
        "colab": {
          "base_uri": "https://localhost:8080/"
        },
        "outputId": "5d204f0e-c44a-42de-f0fb-abd5891c8a67"
      },
      "source": [
        "# Let's count the missing values by column\n",
        "cols = database.columns\n",
        "for col in cols:\n",
        "    mis = database[col].isnull().sum()\n",
        "    if mis > 0:\n",
        "        print(\"{}: {} missing, {}%\".format(col, mis, round(mis/database.shape[0] * 100, 3)))"
      ],
      "execution_count": 12,
      "outputs": [
        {
          "output_type": "stream",
          "text": [
            "id: 1 missing, 0.012%\n",
            "positin1: 1846 missing, 22.034%\n",
            "pid: 10 missing, 0.119%\n",
            "int_corr: 158 missing, 1.886%\n",
            "age_o: 104 missing, 1.241%\n",
            "race_o: 73 missing, 0.871%\n",
            "pf_o_att: 89 missing, 1.062%\n",
            "pf_o_sin: 89 missing, 1.062%\n",
            "pf_o_int: 89 missing, 1.062%\n",
            "pf_o_fun: 98 missing, 1.17%\n",
            "pf_o_amb: 107 missing, 1.277%\n",
            "pf_o_sha: 129 missing, 1.54%\n",
            "attr_o: 212 missing, 2.53%\n",
            "sinc_o: 287 missing, 3.426%\n",
            "intel_o: 306 missing, 3.652%\n",
            "fun_o: 360 missing, 4.297%\n",
            "amb_o: 722 missing, 8.618%\n",
            "shar_o: 1076 missing, 12.843%\n",
            "like_o: 250 missing, 2.984%\n",
            "prob_o: 318 missing, 3.796%\n",
            "met_o: 385 missing, 4.595%\n",
            "age: 95 missing, 1.134%\n",
            "field: 63 missing, 0.752%\n",
            "field_cd: 82 missing, 0.979%\n",
            "undergra: 3464 missing, 41.346%\n",
            "mn_sat: 5245 missing, 62.604%\n",
            "tuition: 4795 missing, 57.233%\n",
            "race: 63 missing, 0.752%\n",
            "imprace: 79 missing, 0.943%\n",
            "imprelig: 79 missing, 0.943%\n",
            "from: 79 missing, 0.943%\n",
            "zipcode: 1064 missing, 12.7%\n",
            "income: 4099 missing, 48.926%\n",
            "goal: 79 missing, 0.943%\n",
            "date: 97 missing, 1.158%\n",
            "go_out: 79 missing, 0.943%\n",
            "career: 89 missing, 1.062%\n",
            "career_c: 138 missing, 1.647%\n",
            "sports: 79 missing, 0.943%\n",
            "tvsports: 79 missing, 0.943%\n",
            "exercise: 79 missing, 0.943%\n",
            "dining: 79 missing, 0.943%\n",
            "museums: 79 missing, 0.943%\n",
            "art: 79 missing, 0.943%\n",
            "hiking: 79 missing, 0.943%\n",
            "gaming: 79 missing, 0.943%\n",
            "clubbing: 79 missing, 0.943%\n",
            "reading: 79 missing, 0.943%\n",
            "tv: 79 missing, 0.943%\n",
            "theater: 79 missing, 0.943%\n",
            "movies: 79 missing, 0.943%\n",
            "concerts: 79 missing, 0.943%\n",
            "music: 79 missing, 0.943%\n",
            "shopping: 79 missing, 0.943%\n",
            "yoga: 79 missing, 0.943%\n",
            "exphappy: 101 missing, 1.206%\n",
            "expnum: 6578 missing, 78.515%\n",
            "attr1_1: 79 missing, 0.943%\n",
            "sinc1_1: 79 missing, 0.943%\n",
            "intel1_1: 79 missing, 0.943%\n",
            "fun1_1: 89 missing, 1.062%\n",
            "amb1_1: 99 missing, 1.182%\n",
            "shar1_1: 121 missing, 1.444%\n",
            "attr4_1: 1889 missing, 22.547%\n",
            "sinc4_1: 1889 missing, 22.547%\n",
            "intel4_1: 1889 missing, 22.547%\n",
            "fun4_1: 1889 missing, 22.547%\n",
            "amb4_1: 1889 missing, 22.547%\n",
            "shar4_1: 1911 missing, 22.81%\n",
            "attr2_1: 79 missing, 0.943%\n",
            "sinc2_1: 79 missing, 0.943%\n",
            "intel2_1: 79 missing, 0.943%\n",
            "fun2_1: 79 missing, 0.943%\n",
            "amb2_1: 89 missing, 1.062%\n",
            "shar2_1: 89 missing, 1.062%\n",
            "attr3_1: 105 missing, 1.253%\n",
            "sinc3_1: 105 missing, 1.253%\n",
            "fun3_1: 105 missing, 1.253%\n",
            "intel3_1: 105 missing, 1.253%\n",
            "amb3_1: 105 missing, 1.253%\n",
            "attr5_1: 3472 missing, 41.442%\n",
            "sinc5_1: 3472 missing, 41.442%\n",
            "intel5_1: 3472 missing, 41.442%\n",
            "fun5_1: 3472 missing, 41.442%\n",
            "amb5_1: 3472 missing, 41.442%\n",
            "attr: 202 missing, 2.411%\n",
            "sinc: 277 missing, 3.306%\n",
            "intel: 296 missing, 3.533%\n",
            "fun: 350 missing, 4.178%\n",
            "amb: 712 missing, 8.498%\n",
            "shar: 1067 missing, 12.736%\n",
            "like: 240 missing, 2.865%\n",
            "prob: 309 missing, 3.688%\n",
            "met: 375 missing, 4.476%\n",
            "match_es: 1173 missing, 14.001%\n",
            "attr1_s: 4282 missing, 51.11%\n",
            "sinc1_s: 4282 missing, 51.11%\n",
            "intel1_s: 4282 missing, 51.11%\n",
            "fun1_s: 4282 missing, 51.11%\n",
            "amb1_s: 4282 missing, 51.11%\n",
            "shar1_s: 4282 missing, 51.11%\n",
            "attr3_s: 4378 missing, 52.256%\n",
            "sinc3_s: 4378 missing, 52.256%\n",
            "intel3_s: 4378 missing, 52.256%\n",
            "fun3_s: 4378 missing, 52.256%\n",
            "amb3_s: 4378 missing, 52.256%\n",
            "satis_2: 915 missing, 10.921%\n",
            "length: 915 missing, 10.921%\n",
            "numdat_2: 945 missing, 11.28%\n",
            "attr7_2: 6394 missing, 76.319%\n",
            "sinc7_2: 6423 missing, 76.665%\n",
            "intel7_2: 6394 missing, 76.319%\n",
            "fun7_2: 6394 missing, 76.319%\n",
            "amb7_2: 6423 missing, 76.665%\n",
            "shar7_2: 6404 missing, 76.438%\n",
            "attr1_2: 933 missing, 11.136%\n",
            "sinc1_2: 915 missing, 10.921%\n",
            "intel1_2: 915 missing, 10.921%\n",
            "fun1_2: 915 missing, 10.921%\n",
            "amb1_2: 915 missing, 10.921%\n",
            "shar1_2: 915 missing, 10.921%\n",
            "attr4_2: 2603 missing, 31.069%\n",
            "sinc4_2: 2603 missing, 31.069%\n",
            "intel4_2: 2603 missing, 31.069%\n",
            "fun4_2: 2603 missing, 31.069%\n",
            "amb4_2: 2603 missing, 31.069%\n",
            "shar4_2: 2603 missing, 31.069%\n",
            "attr2_2: 2603 missing, 31.069%\n",
            "sinc2_2: 2603 missing, 31.069%\n",
            "intel2_2: 2603 missing, 31.069%\n",
            "fun2_2: 2603 missing, 31.069%\n",
            "amb2_2: 2603 missing, 31.069%\n",
            "shar2_2: 2603 missing, 31.069%\n",
            "attr3_2: 915 missing, 10.921%\n",
            "sinc3_2: 915 missing, 10.921%\n",
            "intel3_2: 915 missing, 10.921%\n",
            "fun3_2: 915 missing, 10.921%\n",
            "amb3_2: 915 missing, 10.921%\n",
            "attr5_2: 4001 missing, 47.756%\n",
            "sinc5_2: 4001 missing, 47.756%\n",
            "intel5_2: 4001 missing, 47.756%\n",
            "fun5_2: 4001 missing, 47.756%\n",
            "amb5_2: 4001 missing, 47.756%\n",
            "you_call: 4404 missing, 52.566%\n",
            "them_cal: 4404 missing, 52.566%\n",
            "date_3: 4404 missing, 52.566%\n",
            "numdat_3: 6882 missing, 82.144%\n",
            "num_in_3: 7710 missing, 92.027%\n",
            "attr1_3: 4404 missing, 52.566%\n",
            "sinc1_3: 4404 missing, 52.566%\n",
            "intel1_3: 4404 missing, 52.566%\n",
            "fun1_3: 4404 missing, 52.566%\n",
            "amb1_3: 4404 missing, 52.566%\n",
            "shar1_3: 4404 missing, 52.566%\n",
            "attr7_3: 6362 missing, 75.937%\n",
            "sinc7_3: 6362 missing, 75.937%\n",
            "intel7_3: 6362 missing, 75.937%\n",
            "fun7_3: 6362 missing, 75.937%\n",
            "amb7_3: 6362 missing, 75.937%\n",
            "shar7_3: 6362 missing, 75.937%\n",
            "attr4_3: 5419 missing, 64.681%\n",
            "sinc4_3: 5419 missing, 64.681%\n",
            "intel4_3: 5419 missing, 64.681%\n",
            "fun4_3: 5419 missing, 64.681%\n",
            "amb4_3: 5419 missing, 64.681%\n",
            "shar4_3: 5419 missing, 64.681%\n",
            "attr2_3: 5419 missing, 64.681%\n",
            "sinc2_3: 5419 missing, 64.681%\n",
            "intel2_3: 5419 missing, 64.681%\n",
            "fun2_3: 5419 missing, 64.681%\n",
            "amb2_3: 5419 missing, 64.681%\n",
            "shar2_3: 6362 missing, 75.937%\n",
            "attr3_3: 4404 missing, 52.566%\n",
            "sinc3_3: 4404 missing, 52.566%\n",
            "intel3_3: 4404 missing, 52.566%\n",
            "fun3_3: 4404 missing, 52.566%\n",
            "amb3_3: 4404 missing, 52.566%\n",
            "attr5_3: 6362 missing, 75.937%\n",
            "sinc5_3: 6362 missing, 75.937%\n",
            "intel5_3: 6362 missing, 75.937%\n",
            "fun5_3: 6362 missing, 75.937%\n",
            "amb5_3: 6362 missing, 75.937%\n"
          ],
          "name": "stdout"
        }
      ]
    },
    {
      "cell_type": "markdown",
      "metadata": {
        "id": "cJNOufGan-to"
      },
      "source": [
        "We have a lot of missin values, let's have a look at how we are going to handle them"
      ]
    },
    {
      "cell_type": "markdown",
      "metadata": {
        "id": "6IVFYsIKpuNA"
      },
      "source": [
        "As we can observe, we have a lot of missing values. \n",
        "There are different methods that allows us to handle missing values :\n",
        "- Delete the rows/columns with missing values\n",
        "- Imputing with the mean or median\n",
        "- Using algorithm optimised for dealing with missing values\n",
        "\n",
        "In our case since we just want to do some analysis, we are going to drop columns\n",
        "\n",
        "The first step will be to drop columns where more than 10% of values are missing"
      ]
    },
    {
      "cell_type": "code",
      "metadata": {
        "id": "2oQrsQoVpt42"
      },
      "source": [
        "to_drop = []\n",
        "tmp = [col for col in database.columns \n",
        "       if database[col].isnull().sum()/database.shape[0] * 100 > 10] # Taking all the columns where the ratio of missing values is superior to 25%\n",
        "to_drop += tmp"
      ],
      "execution_count": 13,
      "outputs": []
    },
    {
      "cell_type": "code",
      "metadata": {
        "colab": {
          "base_uri": "https://localhost:8080/"
        },
        "id": "8W0iagNUvduJ",
        "outputId": "f7b46559-d316-445a-c0a8-1e5f49b493e0"
      },
      "source": [
        "print(f\"Original shape: {database.shape}\")\n",
        "print(f\"Dropping {len(to_drop)} columns\")"
      ],
      "execution_count": 14,
      "outputs": [
        {
          "output_type": "stream",
          "text": [
            "Original shape: (8378, 195)\n",
            "Dropping 108 columns\n"
          ],
          "name": "stdout"
        }
      ]
    },
    {
      "cell_type": "code",
      "metadata": {
        "colab": {
          "base_uri": "https://localhost:8080/"
        },
        "id": "4MSsOzJLvuY1",
        "outputId": "75141795-7d6f-48f2-8a76-99e5d408a7b2"
      },
      "source": [
        "# Dropping the columns\n",
        "for col in to_drop:\n",
        "    del database[col]\n",
        "    \n",
        "print(f\"New shape: {database.shape}\")"
      ],
      "execution_count": 15,
      "outputs": [
        {
          "output_type": "stream",
          "text": [
            "New shape: (8378, 87)\n"
          ],
          "name": "stdout"
        }
      ]
    },
    {
      "cell_type": "code",
      "metadata": {
        "colab": {
          "base_uri": "https://localhost:8080/"
        },
        "id": "IZx4g0IX_Jxc",
        "outputId": "18179891-a93c-47d7-dffc-bf9a1d6e6dc5"
      },
      "source": [
        "len(database.columns)"
      ],
      "execution_count": 16,
      "outputs": [
        {
          "output_type": "execute_result",
          "data": {
            "text/plain": [
              "87"
            ]
          },
          "metadata": {
            "tags": []
          },
          "execution_count": 16
        }
      ]
    },
    {
      "cell_type": "code",
      "metadata": {
        "colab": {
          "base_uri": "https://localhost:8080/"
        },
        "id": "VUwT7JT6vR_W",
        "outputId": "5347ff7e-d046-4aad-b7dc-608906658a33"
      },
      "source": [
        "#Let's have a look at our dataset\n",
        "cols = database.columns\n",
        "for col in cols:\n",
        "    mis = database[col].isnull().sum()\n",
        "    if mis > 0:\n",
        "        print(\"{}: {} missing, {}%\".format(col, mis, round(mis/database.shape[0] * 100, 3)))"
      ],
      "execution_count": 17,
      "outputs": [
        {
          "output_type": "stream",
          "text": [
            "id: 1 missing, 0.012%\n",
            "pid: 10 missing, 0.119%\n",
            "int_corr: 158 missing, 1.886%\n",
            "age_o: 104 missing, 1.241%\n",
            "race_o: 73 missing, 0.871%\n",
            "pf_o_att: 89 missing, 1.062%\n",
            "pf_o_sin: 89 missing, 1.062%\n",
            "pf_o_int: 89 missing, 1.062%\n",
            "pf_o_fun: 98 missing, 1.17%\n",
            "pf_o_amb: 107 missing, 1.277%\n",
            "pf_o_sha: 129 missing, 1.54%\n",
            "attr_o: 212 missing, 2.53%\n",
            "sinc_o: 287 missing, 3.426%\n",
            "intel_o: 306 missing, 3.652%\n",
            "fun_o: 360 missing, 4.297%\n",
            "amb_o: 722 missing, 8.618%\n",
            "like_o: 250 missing, 2.984%\n",
            "prob_o: 318 missing, 3.796%\n",
            "met_o: 385 missing, 4.595%\n",
            "age: 95 missing, 1.134%\n",
            "field: 63 missing, 0.752%\n",
            "field_cd: 82 missing, 0.979%\n",
            "race: 63 missing, 0.752%\n",
            "imprace: 79 missing, 0.943%\n",
            "imprelig: 79 missing, 0.943%\n",
            "from: 79 missing, 0.943%\n",
            "goal: 79 missing, 0.943%\n",
            "date: 97 missing, 1.158%\n",
            "go_out: 79 missing, 0.943%\n",
            "career: 89 missing, 1.062%\n",
            "career_c: 138 missing, 1.647%\n",
            "sports: 79 missing, 0.943%\n",
            "tvsports: 79 missing, 0.943%\n",
            "exercise: 79 missing, 0.943%\n",
            "dining: 79 missing, 0.943%\n",
            "museums: 79 missing, 0.943%\n",
            "art: 79 missing, 0.943%\n",
            "hiking: 79 missing, 0.943%\n",
            "gaming: 79 missing, 0.943%\n",
            "clubbing: 79 missing, 0.943%\n",
            "reading: 79 missing, 0.943%\n",
            "tv: 79 missing, 0.943%\n",
            "theater: 79 missing, 0.943%\n",
            "movies: 79 missing, 0.943%\n",
            "concerts: 79 missing, 0.943%\n",
            "music: 79 missing, 0.943%\n",
            "shopping: 79 missing, 0.943%\n",
            "yoga: 79 missing, 0.943%\n",
            "exphappy: 101 missing, 1.206%\n",
            "attr1_1: 79 missing, 0.943%\n",
            "sinc1_1: 79 missing, 0.943%\n",
            "intel1_1: 79 missing, 0.943%\n",
            "fun1_1: 89 missing, 1.062%\n",
            "amb1_1: 99 missing, 1.182%\n",
            "shar1_1: 121 missing, 1.444%\n",
            "attr2_1: 79 missing, 0.943%\n",
            "sinc2_1: 79 missing, 0.943%\n",
            "intel2_1: 79 missing, 0.943%\n",
            "fun2_1: 79 missing, 0.943%\n",
            "amb2_1: 89 missing, 1.062%\n",
            "shar2_1: 89 missing, 1.062%\n",
            "attr3_1: 105 missing, 1.253%\n",
            "sinc3_1: 105 missing, 1.253%\n",
            "fun3_1: 105 missing, 1.253%\n",
            "intel3_1: 105 missing, 1.253%\n",
            "amb3_1: 105 missing, 1.253%\n",
            "attr: 202 missing, 2.411%\n",
            "sinc: 277 missing, 3.306%\n",
            "intel: 296 missing, 3.533%\n",
            "fun: 350 missing, 4.178%\n",
            "amb: 712 missing, 8.498%\n",
            "like: 240 missing, 2.865%\n",
            "prob: 309 missing, 3.688%\n",
            "met: 375 missing, 4.476%\n"
          ],
          "name": "stdout"
        }
      ]
    },
    {
      "cell_type": "code",
      "metadata": {
        "id": "hoYECxMeOGuy"
      },
      "source": [
        "# narrowing dataset\n",
        "dating_1 = database.iloc[:, 11:28]\n",
        "dating_2 = database.iloc[:, 30:35]\n",
        "dating_3 = database.iloc[:, 39:43]\n",
        "dating_4 = database.iloc[:, 45:67]\n",
        "dating_5 = database.iloc[:, 69:74]\n",
        "dating_6 = database.iloc[:, 87:91]\n",
        "dating_7 = database.iloc[:, 97:102]\n",
        "dating_8 = database.iloc[:, 104:107]\n",
        "\n",
        "data = pd.concat([database.iloc[:, 0],database.iloc[:, 2],dating_1,dating_2,dating_3,dating_4,dating_5,\n",
        "                  dating_6,dating_7,dating_8], axis=1)"
      ],
      "execution_count": 18,
      "outputs": []
    },
    {
      "cell_type": "code",
      "metadata": {
        "colab": {
          "base_uri": "https://localhost:8080/"
        },
        "id": "z0AYnSiq8sut",
        "outputId": "f47c1673-5800-4e5a-f052-5ad7968c8ac1"
      },
      "source": [
        "# Now that we have reduced the number of missing values to hundreds, we are going to remove null rows\n",
        "data2 = data.dropna()\n",
        "data2.shape"
      ],
      "execution_count": 19,
      "outputs": [
        {
          "output_type": "execute_result",
          "data": {
            "text/plain": [
              "(7054, 55)"
            ]
          },
          "metadata": {
            "tags": []
          },
          "execution_count": 19
        }
      ]
    },
    {
      "cell_type": "code",
      "metadata": {
        "colab": {
          "base_uri": "https://localhost:8080/"
        },
        "id": "-s4w10Np9RJc",
        "outputId": "88f54c56-3f1e-4e2f-a8d3-66509b9d066a"
      },
      "source": [
        "# Check the datatypes to have further information about the dataset\n",
        "data2.dtypes"
      ],
      "execution_count": 20,
      "outputs": [
        {
          "output_type": "execute_result",
          "data": {
            "text/plain": [
              "iid           int64\n",
              "gender        int64\n",
              "match         int64\n",
              "int_corr    float64\n",
              "samerace      int64\n",
              "age_o       float64\n",
              "race_o      float64\n",
              "pf_o_att    float64\n",
              "pf_o_sin    float64\n",
              "pf_o_int    float64\n",
              "pf_o_fun    float64\n",
              "pf_o_amb    float64\n",
              "pf_o_sha    float64\n",
              "dec_o         int64\n",
              "attr_o      float64\n",
              "sinc_o      float64\n",
              "intel_o     float64\n",
              "fun_o       float64\n",
              "amb_o       float64\n",
              "met_o       float64\n",
              "age         float64\n",
              "field        object\n",
              "field_cd    float64\n",
              "race        float64\n",
              "date        float64\n",
              "go_out      float64\n",
              "career       object\n",
              "career_c    float64\n",
              "exercise    float64\n",
              "dining      float64\n",
              "museums     float64\n",
              "art         float64\n",
              "hiking      float64\n",
              "gaming      float64\n",
              "clubbing    float64\n",
              "reading     float64\n",
              "tv          float64\n",
              "theater     float64\n",
              "movies      float64\n",
              "concerts    float64\n",
              "music       float64\n",
              "shopping    float64\n",
              "yoga        float64\n",
              "exphappy    float64\n",
              "attr1_1     float64\n",
              "sinc1_1     float64\n",
              "intel1_1    float64\n",
              "fun1_1      float64\n",
              "amb1_1      float64\n",
              "shar1_1     float64\n",
              "intel2_1    float64\n",
              "fun2_1      float64\n",
              "amb2_1      float64\n",
              "shar2_1     float64\n",
              "attr3_1     float64\n",
              "dtype: object"
            ]
          },
          "metadata": {
            "tags": []
          },
          "execution_count": 20
        }
      ]
    },
    {
      "cell_type": "code",
      "metadata": {
        "colab": {
          "base_uri": "https://localhost:8080/"
        },
        "id": "ArfaYKKe9jdf",
        "outputId": "07a26f8c-f058-406d-d2fc-2cc162bd8f8b"
      },
      "source": [
        "# Let's create a dataset without object in order to use some further method analysis\n",
        "data_free_o = data2.drop(['field', 'career'], axis = 1)\n",
        "data_free_o.shape"
      ],
      "execution_count": 21,
      "outputs": [
        {
          "output_type": "execute_result",
          "data": {
            "text/plain": [
              "(7054, 53)"
            ]
          },
          "metadata": {
            "tags": []
          },
          "execution_count": 21
        }
      ]
    },
    {
      "cell_type": "markdown",
      "metadata": {
        "id": "rEG4ulxZ-AE7"
      },
      "source": [
        "We are going to have a look to the correlation between the different columns by using a heatmap"
      ]
    },
    {
      "cell_type": "code",
      "metadata": {
        "colab": {
          "base_uri": "https://localhost:8080/",
          "height": 918
        },
        "id": "5TihW9Nu99wj",
        "outputId": "436aed4a-05a2-4ed4-f58d-cd5cc4f280fe"
      },
      "source": [
        "# Heatmap creation\n",
        "plt.subplots(figsize=(20,15))\n",
        "ax = plt.axes()\n",
        "ax.set_title('Correlation Heatmap')\n",
        "corr = data_free_o.corr()\n",
        "max_corr = sns.heatmap(corr,\n",
        "            xticklabels=corr.columns.values,\n",
        "            yticklabels=corr.columns.values)"
      ],
      "execution_count": 25,
      "outputs": [
        {
          "output_type": "display_data",
          "data": {
            "image/png": "[encoded data removed]",
            "text/plain": [
              "<Figure size 1440x1080 with 2 Axes>"
            ]
          },
          "metadata": {
            "tags": [],
            "needs_background": "light"
          }
        }
      ]
    },
    {
      "cell_type": "markdown",
      "metadata": {
        "id": "LflfxDiRoFDf"
      },
      "source": [
        "We can observe that activities doesn\"t influence much the variable match. But in the other hand, the variable regarding the partner's attribute and their decisions is highly correlated to the match variable.\n",
        "We can then remove the interests as it doesnt influence the match variable."
      ]
    },
    {
      "cell_type": "code",
      "metadata": {
        "id": "x01E8EdFsTT8"
      },
      "source": [
        "activities_interested=['exercise','dining','museums','art','hiking','gaming','clubbing','reading',\n",
        "                       'tv','theater','movies','concerts','music','shopping','yoga']\n",
        "activities = data_free_o.groupby(['gender']).mean()[activities_interested].values"
      ],
      "execution_count": 23,
      "outputs": []
    },
    {
      "cell_type": "code",
      "metadata": {
        "colab": {
          "base_uri": "https://localhost:8080/",
          "height": 542
        },
        "id": "RjtKS0M4sjRL",
        "outputId": "792e907d-d34b-4f2c-c837-5103b10209c6"
      },
      "source": [
        "trace1 = go.Bar(\n",
        "    x=activities_interested,\n",
        "    y=activities[0,:],\n",
        "    name='Women',\n",
        "    #orientation = 'h',\n",
        "    marker=dict(\n",
        "        color='pink'\n",
        "    )\n",
        ")\n",
        "trace2 = go.Bar(\n",
        "    x=activities_interested,\n",
        "    y=activities[1,:],\n",
        "    name='Men',\n",
        "    #orientation = 'h',\n",
        "    marker=dict(\n",
        "        color='darkblue'\n",
        "    )\n",
        ")\n",
        "\n",
        "data = [trace1, trace2]\n",
        "layout = go.Layout(\n",
        "    title='Interest by activities Men vs Women',\n",
        "    font=dict(\n",
        "        size=16\n",
        "    ),\n",
        "    barmode = 'stack',\n",
        "    legend=dict(\n",
        "        font=dict(\n",
        "            size=16\n",
        "        )\n",
        "    )\n",
        ")\n",
        "fig = go.Figure(data=data, layout=layout)\n",
        "py.iplot(fig, filename='barchart')"
      ],
      "execution_count": 24,
      "outputs": [
        {
          "output_type": "display_data",
          "data": {
            "text/html": [
              "<html>\n",
              "<head><meta charset=\"utf-8\" /></head>\n",
              "<body>\n",
              "    <div>\n",
              "            <script src=\"https://cdnjs.cloudflare.com/ajax/libs/mathjax/2.7.5/MathJax.js?config=TeX-AMS-MML_SVG\"></script><script type=\"text/javascript\">if (window.MathJax) {MathJax.Hub.Config({SVG: {font: \"STIX-Web\"}});}</script>\n",
              "                <script type=\"text/javascript\">window.PlotlyConfig = {MathJaxConfig: 'local'};</script>\n",
              "        <script src=\"https://cdn.plot.ly/plotly-latest.min.js\"></script>    \n",
              "            <div id=\"25e25f6c-1f99-438d-80fb-7ca48f089293\" class=\"plotly-graph-div\" style=\"height:525px; width:100%;\"></div>\n",
              "            <script type=\"text/javascript\">\n",
              "                \n",
              "                    window.PLOTLYENV=window.PLOTLYENV || {};\n",
              "                    \n",
              "                if (document.getElementById(\"25e25f6c-1f99-438d-80fb-7ca48f089293\")) {\n",
              "                    Plotly.newPlot(\n",
              "                        '25e25f6c-1f99-438d-80fb-7ca48f089293',\n",
              "                        [{\"marker\": {\"color\": \"pink\"}, \"name\": \"Women\", \"type\": \"bar\", \"x\": [\"exercise\", \"dining\", \"museums\", \"art\", \"hiking\", \"gaming\", \"clubbing\", \"reading\", \"tv\", \"theater\", \"movies\", \"concerts\", \"music\", \"shopping\", \"yoga\"], \"y\": [6.492229443345578, 8.184232834133937, 7.474710370161063, 7.270697937270415, 5.919468776490534, 3.3404916643119527, 5.916360553828765, 7.938683243854196, 5.75445040972026, 7.5218988414806445, 8.205990392766319, 7.130262786097767, 8.000282565696525, 6.568522181407177, 5.019497033060187]}, {\"marker\": {\"color\": \"darkblue\"}, \"name\": \"Men\", \"type\": \"bar\", \"x\": [\"exercise\", \"dining\", \"museums\", \"art\", \"hiking\", \"gaming\", \"clubbing\", \"reading\", \"tv\", \"theater\", \"movies\", \"concerts\", \"music\", \"shopping\", \"yoga\"], \"y\": [6.080512091038407, 7.441251778093883, 6.593172119487909, 6.24950213371266, 5.549359886201992, 4.443812233285917, 5.578662873399716, 7.456045519203414, 4.858321479374111, 6.150213371266003, 7.7155049786628735, 6.568705547652916, 7.7448079658605975, 4.77126600284495, 3.770412517780939]}],\n",
              "                        {\"barmode\": \"stack\", \"font\": {\"size\": 16}, \"legend\": {\"font\": {\"size\": 16}}, \"template\": {\"data\": {\"bar\": [{\"error_x\": {\"color\": \"#2a3f5f\"}, \"error_y\": {\"color\": \"#2a3f5f\"}, \"marker\": {\"line\": {\"color\": \"#E5ECF6\", \"width\": 0.5}}, \"type\": \"bar\"}], \"barpolar\": [{\"marker\": {\"line\": {\"color\": \"#E5ECF6\", \"width\": 0.5}}, \"type\": \"barpolar\"}], \"carpet\": [{\"aaxis\": {\"endlinecolor\": \"#2a3f5f\", \"gridcolor\": \"white\", \"linecolor\": \"white\", \"minorgridcolor\": \"white\", \"startlinecolor\": \"#2a3f5f\"}, \"baxis\": {\"endlinecolor\": \"#2a3f5f\", \"gridcolor\": \"white\", \"linecolor\": \"white\", \"minorgridcolor\": \"white\", \"startlinecolor\": \"#2a3f5f\"}, \"type\": \"carpet\"}], \"choropleth\": [{\"colorbar\": {\"outlinewidth\": 0, \"ticks\": \"\"}, \"type\": \"choropleth\"}], \"contour\": [{\"colorbar\": {\"outlinewidth\": 0, \"ticks\": \"\"}, \"colorscale\": [[0.0, \"#0d0887\"], [0.1111111111111111, \"#46039f\"], [0.2222222222222222, \"#7201a8\"], [0.3333333333333333, \"#9c179e\"], [0.4444444444444444, \"#bd3786\"], [0.5555555555555556, \"#d8576b\"], [0.6666666666666666, \"#ed7953\"], [0.7777777777777778, \"#fb9f3a\"], [0.8888888888888888, \"#fdca26\"], [1.0, \"#f0f921\"]], \"type\": \"contour\"}], \"contourcarpet\": [{\"colorbar\": {\"outlinewidth\": 0, \"ticks\": \"\"}, \"type\": \"contourcarpet\"}], \"heatmap\": [{\"colorbar\": {\"outlinewidth\": 0, \"ticks\": \"\"}, \"colorscale\": [[0.0, \"#0d0887\"], [0.1111111111111111, \"#46039f\"], [0.2222222222222222, \"#7201a8\"], [0.3333333333333333, \"#9c179e\"], [0.4444444444444444, \"#bd3786\"], [0.5555555555555556, \"#d8576b\"], [0.6666666666666666, \"#ed7953\"], [0.7777777777777778, \"#fb9f3a\"], [0.8888888888888888, \"#fdca26\"], [1.0, \"#f0f921\"]], \"type\": \"heatmap\"}], \"heatmapgl\": [{\"colorbar\": {\"outlinewidth\": 0, \"ticks\": \"\"}, \"colorscale\": [[0.0, \"#0d0887\"], [0.1111111111111111, \"#46039f\"], [0.2222222222222222, \"#7201a8\"], [0.3333333333333333, \"#9c179e\"], [0.4444444444444444, \"#bd3786\"], [0.5555555555555556, \"#d8576b\"], [0.6666666666666666, \"#ed7953\"], [0.7777777777777778, \"#fb9f3a\"], [0.8888888888888888, \"#fdca26\"], [1.0, \"#f0f921\"]], \"type\": \"heatmapgl\"}], \"histogram\": [{\"marker\": {\"colorbar\": {\"outlinewidth\": 0, \"ticks\": \"\"}}, \"type\": \"histogram\"}], \"histogram2d\": [{\"colorbar\": {\"outlinewidth\": 0, \"ticks\": \"\"}, \"colorscale\": [[0.0, \"#0d0887\"], [0.1111111111111111, \"#46039f\"], [0.2222222222222222, \"#7201a8\"], [0.3333333333333333, \"#9c179e\"], [0.4444444444444444, \"#bd3786\"], [0.5555555555555556, \"#d8576b\"], [0.6666666666666666, \"#ed7953\"], [0.7777777777777778, \"#fb9f3a\"], [0.8888888888888888, \"#fdca26\"], [1.0, \"#f0f921\"]], \"type\": \"histogram2d\"}], \"histogram2dcontour\": [{\"colorbar\": {\"outlinewidth\": 0, \"ticks\": \"\"}, \"colorscale\": [[0.0, \"#0d0887\"], [0.1111111111111111, \"#46039f\"], [0.2222222222222222, \"#7201a8\"], [0.3333333333333333, \"#9c179e\"], [0.4444444444444444, \"#bd3786\"], [0.5555555555555556, \"#d8576b\"], [0.6666666666666666, \"#ed7953\"], [0.7777777777777778, \"#fb9f3a\"], [0.8888888888888888, \"#fdca26\"], [1.0, \"#f0f921\"]], \"type\": \"histogram2dcontour\"}], \"mesh3d\": [{\"colorbar\": {\"outlinewidth\": 0, \"ticks\": \"\"}, \"type\": \"mesh3d\"}], \"parcoords\": [{\"line\": {\"colorbar\": {\"outlinewidth\": 0, \"ticks\": \"\"}}, \"type\": \"parcoords\"}], \"pie\": [{\"automargin\": true, \"type\": \"pie\"}], \"scatter\": [{\"marker\": {\"colorbar\": {\"outlinewidth\": 0, \"ticks\": \"\"}}, \"type\": \"scatter\"}], \"scatter3d\": [{\"line\": {\"colorbar\": {\"outlinewidth\": 0, \"ticks\": \"\"}}, \"marker\": {\"colorbar\": {\"outlinewidth\": 0, \"ticks\": \"\"}}, \"type\": \"scatter3d\"}], \"scattercarpet\": [{\"marker\": {\"colorbar\": {\"outlinewidth\": 0, \"ticks\": \"\"}}, \"type\": \"scattercarpet\"}], \"scattergeo\": [{\"marker\": {\"colorbar\": {\"outlinewidth\": 0, \"ticks\": \"\"}}, \"type\": \"scattergeo\"}], \"scattergl\": [{\"marker\": {\"colorbar\": {\"outlinewidth\": 0, \"ticks\": \"\"}}, \"type\": \"scattergl\"}], \"scattermapbox\": [{\"marker\": {\"colorbar\": {\"outlinewidth\": 0, \"ticks\": \"\"}}, \"type\": \"scattermapbox\"}], \"scatterpolar\": [{\"marker\": {\"colorbar\": {\"outlinewidth\": 0, \"ticks\": \"\"}}, \"type\": \"scatterpolar\"}], \"scatterpolargl\": [{\"marker\": {\"colorbar\": {\"outlinewidth\": 0, \"ticks\": \"\"}}, \"type\": \"scatterpolargl\"}], \"scatterternary\": [{\"marker\": {\"colorbar\": {\"outlinewidth\": 0, \"ticks\": \"\"}}, \"type\": \"scatterternary\"}], \"surface\": [{\"colorbar\": {\"outlinewidth\": 0, \"ticks\": \"\"}, \"colorscale\": [[0.0, \"#0d0887\"], [0.1111111111111111, \"#46039f\"], [0.2222222222222222, \"#7201a8\"], [0.3333333333333333, \"#9c179e\"], [0.4444444444444444, \"#bd3786\"], [0.5555555555555556, \"#d8576b\"], [0.6666666666666666, \"#ed7953\"], [0.7777777777777778, \"#fb9f3a\"], [0.8888888888888888, \"#fdca26\"], [1.0, \"#f0f921\"]], \"type\": \"surface\"}], \"table\": [{\"cells\": {\"fill\": {\"color\": \"#EBF0F8\"}, \"line\": {\"color\": \"white\"}}, \"header\": {\"fill\": {\"color\": \"#C8D4E3\"}, \"line\": {\"color\": \"white\"}}, \"type\": \"table\"}]}, \"layout\": {\"annotationdefaults\": {\"arrowcolor\": \"#2a3f5f\", \"arrowhead\": 0, \"arrowwidth\": 1}, \"coloraxis\": {\"colorbar\": {\"outlinewidth\": 0, \"ticks\": \"\"}}, \"colorscale\": {\"diverging\": [[0, \"#8e0152\"], [0.1, \"#c51b7d\"], [0.2, \"#de77ae\"], [0.3, \"#f1b6da\"], [0.4, \"#fde0ef\"], [0.5, \"#f7f7f7\"], [0.6, \"#e6f5d0\"], [0.7, \"#b8e186\"], [0.8, \"#7fbc41\"], [0.9, \"#4d9221\"], [1, \"#276419\"]], \"sequential\": [[0.0, \"#0d0887\"], [0.1111111111111111, \"#46039f\"], [0.2222222222222222, \"#7201a8\"], [0.3333333333333333, \"#9c179e\"], [0.4444444444444444, \"#bd3786\"], [0.5555555555555556, \"#d8576b\"], [0.6666666666666666, \"#ed7953\"], [0.7777777777777778, \"#fb9f3a\"], [0.8888888888888888, \"#fdca26\"], [1.0, \"#f0f921\"]], \"sequentialminus\": [[0.0, \"#0d0887\"], [0.1111111111111111, \"#46039f\"], [0.2222222222222222, \"#7201a8\"], [0.3333333333333333, \"#9c179e\"], [0.4444444444444444, \"#bd3786\"], [0.5555555555555556, \"#d8576b\"], [0.6666666666666666, \"#ed7953\"], [0.7777777777777778, \"#fb9f3a\"], [0.8888888888888888, \"#fdca26\"], [1.0, \"#f0f921\"]]}, \"colorway\": [\"#636efa\", \"#EF553B\", \"#00cc96\", \"#ab63fa\", \"#FFA15A\", \"#19d3f3\", \"#FF6692\", \"#B6E880\", \"#FF97FF\", \"#FECB52\"], \"font\": {\"color\": \"#2a3f5f\"}, \"geo\": {\"bgcolor\": \"white\", \"lakecolor\": \"white\", \"landcolor\": \"#E5ECF6\", \"showlakes\": true, \"showland\": true, \"subunitcolor\": \"white\"}, \"hoverlabel\": {\"align\": \"left\"}, \"hovermode\": \"closest\", \"mapbox\": {\"style\": \"light\"}, \"paper_bgcolor\": \"white\", \"plot_bgcolor\": \"#E5ECF6\", \"polar\": {\"angularaxis\": {\"gridcolor\": \"white\", \"linecolor\": \"white\", \"ticks\": \"\"}, \"bgcolor\": \"#E5ECF6\", \"radialaxis\": {\"gridcolor\": \"white\", \"linecolor\": \"white\", \"ticks\": \"\"}}, \"scene\": {\"xaxis\": {\"backgroundcolor\": \"#E5ECF6\", \"gridcolor\": \"white\", \"gridwidth\": 2, \"linecolor\": \"white\", \"showbackground\": true, \"ticks\": \"\", \"zerolinecolor\": \"white\"}, \"yaxis\": {\"backgroundcolor\": \"#E5ECF6\", \"gridcolor\": \"white\", \"gridwidth\": 2, \"linecolor\": \"white\", \"showbackground\": true, \"ticks\": \"\", \"zerolinecolor\": \"white\"}, \"zaxis\": {\"backgroundcolor\": \"#E5ECF6\", \"gridcolor\": \"white\", \"gridwidth\": 2, \"linecolor\": \"white\", \"showbackground\": true, \"ticks\": \"\", \"zerolinecolor\": \"white\"}}, \"shapedefaults\": {\"line\": {\"color\": \"#2a3f5f\"}}, \"ternary\": {\"aaxis\": {\"gridcolor\": \"white\", \"linecolor\": \"white\", \"ticks\": \"\"}, \"baxis\": {\"gridcolor\": \"white\", \"linecolor\": \"white\", \"ticks\": \"\"}, \"bgcolor\": \"#E5ECF6\", \"caxis\": {\"gridcolor\": \"white\", \"linecolor\": \"white\", \"ticks\": \"\"}}, \"title\": {\"x\": 0.05}, \"xaxis\": {\"automargin\": true, \"gridcolor\": \"white\", \"linecolor\": \"white\", \"ticks\": \"\", \"title\": {\"standoff\": 15}, \"zerolinecolor\": \"white\", \"zerolinewidth\": 2}, \"yaxis\": {\"automargin\": true, \"gridcolor\": \"white\", \"linecolor\": \"white\", \"ticks\": \"\", \"title\": {\"standoff\": 15}, \"zerolinecolor\": \"white\", \"zerolinewidth\": 2}}}, \"title\": {\"text\": \"Interest by activities Men vs Women\"}},\n",
              "                        {\"responsive\": true}\n",
              "                    ).then(function(){\n",
              "                            \n",
              "var gd = document.getElementById('25e25f6c-1f99-438d-80fb-7ca48f089293');\n",
              "var x = new MutationObserver(function (mutations, observer) {{\n",
              "        var display = window.getComputedStyle(gd).display;\n",
              "        if (!display || display === 'none') {{\n",
              "            console.log([gd, 'removed!']);\n",
              "            Plotly.purge(gd);\n",
              "            observer.disconnect();\n",
              "        }}\n",
              "}});\n",
              "\n",
              "// Listen for the removal of the full notebook cells\n",
              "var notebookContainer = gd.closest('#notebook-container');\n",
              "if (notebookContainer) {{\n",
              "    x.observe(notebookContainer, {childList: true});\n",
              "}}\n",
              "\n",
              "// Listen for the clearing of the current output cell\n",
              "var outputEl = gd.closest('.output');\n",
              "if (outputEl) {{\n",
              "    x.observe(outputEl, {childList: true});\n",
              "}}\n",
              "\n",
              "                        })\n",
              "                };\n",
              "                \n",
              "            </script>\n",
              "        </div>\n",
              "</body>\n",
              "</html>"
            ]
          },
          "metadata": {
            "tags": []
          }
        }
      ]
    },
    {
      "cell_type": "markdown",
      "metadata": {
        "id": "wc7A9DfptoV-"
      },
      "source": [
        "If you want to take someone on a date, they are more likely to have a good time if you chose to go see a movie or for a dinner or maybe both. Even thought it doesnt allow to secure a second date, it is always interesting to see what we can get from those informations."
      ]
    },
    {
      "cell_type": "code",
      "metadata": {
        "id": "7rzQHLrbp6Gw"
      },
      "source": [
        "\n",
        "data_no_i =  data_free_o.drop([ 'exercise', 'dining', 'museums', 'art', 'hiking', \n",
        "                    'gaming', 'clubbing', 'reading', 'tv', 'theater', 'movies', 'concerts', 'music', \n",
        "                   'shopping', 'yoga'], axis=1)"
      ],
      "execution_count": 26,
      "outputs": []
    },
    {
      "cell_type": "code",
      "metadata": {
        "id": "0Byzrm8SKu3E",
        "colab": {
          "base_uri": "https://localhost:8080/"
        },
        "outputId": "bd9a7900-ac7c-40c5-e4c5-59702c8d8a59"
      },
      "source": [
        "diff_gender = data_no_i.gender.apply(lambda x: \n",
        "                                       \"Female\" if x==0 \n",
        "                                       else \"Male\"\n",
        "                                   )\n",
        "                                      \n",
        "\n",
        "gender = diff_gender.value_counts()\n",
        "gender"
      ],
      "execution_count": 27,
      "outputs": [
        {
          "output_type": "execute_result",
          "data": {
            "text/plain": [
              "Female    3539\n",
              "Male      3515\n",
              "Name: gender, dtype: int64"
            ]
          },
          "metadata": {
            "tags": []
          },
          "execution_count": 27
        }
      ]
    },
    {
      "cell_type": "code",
      "metadata": {
        "id": "ylV3wdZDKu3E"
      },
      "source": [
        "is_woman = data_no_i[\"gender\"]==0\n",
        "df_woman = data_no_i[is_woman]\n"
      ],
      "execution_count": 37,
      "outputs": []
    },
    {
      "cell_type": "code",
      "metadata": {
        "id": "2HPTNCCXKu3F"
      },
      "source": [
        "is_man = data_no_i[\"gender\"]==1\n",
        "df_man = data_no_i[is_man]\n"
      ],
      "execution_count": 38,
      "outputs": []
    },
    {
      "cell_type": "code",
      "metadata": {
        "id": "U0oRg2inKu3F"
      },
      "source": [
        "round_second = df_man.dec_o.apply(lambda x: \n",
        "                                            \"NO\" if x==0 \n",
        "                                            else \"YES\")\n",
        "\n",
        "matches = round_second.value_counts()\n",
        "\n",
        "\n",
        "like = df_woman.dec_o.apply(lambda x: \n",
        "                                            \"NO\" if x==0 \n",
        "                                            else \"YES\")\n",
        "\n",
        "likes = like.value_counts()\n"
      ],
      "execution_count": 39,
      "outputs": []
    },
    {
      "cell_type": "code",
      "metadata": {
        "id": "2LUbxdb-Ku3F",
        "colab": {
          "base_uri": "https://localhost:8080/",
          "height": 387
        },
        "outputId": "67000d5a-19b7-47ed-9ab3-81d32d25a3a2"
      },
      "source": [
        "# Looking at the distribution of if men got a second date or not\n",
        "\n",
        "fig, ax = plt.subplots(figsize=(10,5), constrained_layout=True)\n",
        "\n",
        "fig.suptitle('Purcentage of match for men', fontsize=16)\n",
        "\n",
        "ax.pie(matches, \n",
        "       autopct='%1.1f%%',\n",
        "       shadow=True, \n",
        "       startangle=90,\n",
        "       radius=1.5,\n",
        "       labels = [\"No\", \"Yes\"]\n",
        "       )\n",
        "\n",
        "fig.legend(matches.index)\n",
        "\n",
        "plt.show()\n"
      ],
      "execution_count": 40,
      "outputs": [
        {
          "output_type": "display_data",
          "data": {
            "image/png": "[encoded data removed]",
            "text/plain": [
              "<Figure size 720x360 with 1 Axes>"
            ]
          },
          "metadata": {
            "tags": []
          }
        }
      ]
    },
    {
      "cell_type": "code",
      "metadata": {
        "id": "-lakFX9HKu3G",
        "colab": {
          "base_uri": "https://localhost:8080/",
          "height": 455
        },
        "outputId": "b6df6dd0-3152-4fc3-c8d7-88bedfb4eb48"
      },
      "source": [
        "# Création du pie chart femme\n",
        "\n",
        "fig1, ax1 = plt.subplots(figsize=(10,5), constrained_layout=True)\n",
        "\n",
        "fig1.suptitle('Purcentage of match for women ', fontsize=16)\n",
        "ax1.pie(likes, \n",
        "       autopct='%1.1f%%',\n",
        "       shadow=True, \n",
        "       startangle=90,\n",
        "       radius=1.5,\n",
        "       )\n",
        "\n",
        "fig1.legend(likes.index, loc=\"best\")\n",
        "\n",
        "\n",
        "plt.show()"
      ],
      "execution_count": 41,
      "outputs": [
        {
          "output_type": "stream",
          "text": [
            "/usr/local/lib/python3.6/dist-packages/ipykernel_launcher.py:13: MatplotlibDeprecationWarning:\n",
            "\n",
            "Automatic legend placement (loc='best') not implemented for figure legend. Falling back on 'upper right'. This will raise an exception in 3.3.\n",
            "\n"
          ],
          "name": "stderr"
        },
        {
          "output_type": "display_data",
          "data": {
            "image/png": "[encoded data removed]",
            "text/plain": [
              "<Figure size 720x360 with 1 Axes>"
            ]
          },
          "metadata": {
            "tags": []
          }
        }
      ]
    },
    {
      "cell_type": "markdown",
      "metadata": {
        "id": "agL9vo3Fg-TJ"
      },
      "source": [
        "Usually woman tend to be more selective than men as we have seen that woman have more chance to get a second date from a man than the other way around."
      ]
    },
    {
      "cell_type": "code",
      "metadata": {
        "id": "QiCtjwbHKu3G",
        "colab": {
          "base_uri": "https://localhost:8080/"
        },
        "outputId": "922e415d-06be-476d-921f-172e204d9bec"
      },
      "source": [
        "races = data_no_i.race.apply(lambda x: \n",
        "                                 \"African American\" if x==1.0\n",
        "                                 else \"European\" if x==2.0\n",
        "                                 else \"Latino\" if x==3.0\n",
        "                                 else \"Asian\" if x==4.0\n",
        "                                 else \"Native American\" if x==5.0\n",
        "                                 else \"Other\")\n",
        "\n",
        "count_races = races.value_counts()\n",
        "count_races\n"
      ],
      "execution_count": 42,
      "outputs": [
        {
          "output_type": "execute_result",
          "data": {
            "text/plain": [
              "European            3960\n",
              "Asian               1701\n",
              "Latino               568\n",
              "Other                459\n",
              "African American     366\n",
              "Name: race, dtype: int64"
            ]
          },
          "metadata": {
            "tags": []
          },
          "execution_count": 42
        }
      ]
    },
    {
      "cell_type": "code",
      "metadata": {
        "id": "niuSqPsCKu3G",
        "colab": {
          "base_uri": "https://localhost:8080/",
          "height": 298
        },
        "outputId": "13f8e208-410d-4ff0-e171-b213b822d19e"
      },
      "source": [
        "plt.figure(figsize=(25,5))\n",
        "plt.bar(count_races.index, count_races.values)\n"
      ],
      "execution_count": 44,
      "outputs": [
        {
          "output_type": "execute_result",
          "data": {
            "text/plain": [
              "<BarContainer object of 5 artists>"
            ]
          },
          "metadata": {
            "tags": []
          },
          "execution_count": 44
        },
        {
          "output_type": "display_data",
          "data": {
            "image/png": "[encoded data removed]",
            "text/plain": [
              "<Figure size 1800x360 with 1 Axes>"
            ]
          },
          "metadata": {
            "tags": [],
            "needs_background": "light"
          }
        }
      ]
    },
    {
      "cell_type": "code",
      "metadata": {
        "id": "wewsynltKu3H"
      },
      "source": [
        "# Getting the 6 variables in order to compare them\n",
        "atributes_gender = data_no_i[['gender','attr1_1', 'sinc1_1','intel1_1','fun1_1','amb1_1','shar1_1']].groupby('gender').mean()\n",
        "cols = ['Attractive','Sincere','Intelligente','Fun','Ambituous','Shared Interests']\n",
        "atributes_gender.columns = cols\n"
      ],
      "execution_count": 45,
      "outputs": []
    },
    {
      "cell_type": "code",
      "metadata": {
        "id": "u5H81aQsKu3H",
        "colab": {
          "base_uri": "https://localhost:8080/",
          "height": 542
        },
        "outputId": "e84ac5dc-1047-4ede-9ef8-77c3dc038661"
      },
      "source": [
        "# Creating the first graph\n",
        "trace1 = go.Bar(\n",
        "    y=list(atributes_gender.iloc[1]),\n",
        "    x=atributes_gender.columns.values,\n",
        "    name='Men',\n",
        "    marker=dict(\n",
        "        color='darkblue'\n",
        "    )\n",
        ")\n",
        "# Creating the second graph\n",
        "trace2 = go.Bar(\n",
        "    y=list(atributes_gender.iloc[0]),\n",
        "    x=atributes_gender.columns.values,\n",
        "    name='Women',\n",
        "    marker=dict(\n",
        "        color='pink'\n",
        "    )\n",
        ")\n",
        "\n",
        "# Creating the double graph\n",
        "data = [trace1, trace2]\n",
        "layout = go.Layout(\n",
        "    title='What people are looking into the opposite sex',\n",
        "    font=dict(\n",
        "        size=16\n",
        "    ),\n",
        "    legend=dict(\n",
        "        font=dict(\n",
        "            size=16\n",
        "        )\n",
        "    )\n",
        ")\n",
        "fig = go.Figure(data=data, layout=layout)\n",
        "py.iplot(fig, filename='barchart')"
      ],
      "execution_count": 47,
      "outputs": [
        {
          "output_type": "display_data",
          "data": {
            "text/html": [
              "<html>\n",
              "<head><meta charset=\"utf-8\" /></head>\n",
              "<body>\n",
              "    <div>\n",
              "            <script src=\"https://cdnjs.cloudflare.com/ajax/libs/mathjax/2.7.5/MathJax.js?config=TeX-AMS-MML_SVG\"></script><script type=\"text/javascript\">if (window.MathJax) {MathJax.Hub.Config({SVG: {font: \"STIX-Web\"}});}</script>\n",
              "                <script type=\"text/javascript\">window.PlotlyConfig = {MathJaxConfig: 'local'};</script>\n",
              "        <script src=\"https://cdn.plot.ly/plotly-latest.min.js\"></script>    \n",
              "            <div id=\"2f565450-f4e3-4c58-97b0-2cadcdd77249\" class=\"plotly-graph-div\" style=\"height:525px; width:100%;\"></div>\n",
              "            <script type=\"text/javascript\">\n",
              "                \n",
              "                    window.PLOTLYENV=window.PLOTLYENV || {};\n",
              "                    \n",
              "                if (document.getElementById(\"2f565450-f4e3-4c58-97b0-2cadcdd77249\")) {\n",
              "                    Plotly.newPlot(\n",
              "                        '2f565450-f4e3-4c58-97b0-2cadcdd77249',\n",
              "                        [{\"marker\": {\"color\": \"darkblue\"}, \"name\": \"Men\", \"type\": \"bar\", \"x\": [\"Attractive\", \"Sincere\", \"Intelligente\", \"Fun\", \"Ambituous\", \"Shared Interests\"], \"y\": [26.455561877667066, 16.661937411095263, 19.64405974395444, 17.714395448079582, 8.58733712660028, 11.051786628734021]}, {\"marker\": {\"color\": \"pink\"}, \"name\": \"Women\", \"type\": \"bar\", \"x\": [\"Attractive\", \"Sincere\", \"Intelligente\", \"Fun\", \"Ambituous\", \"Shared Interests\"], \"y\": [17.769652444193362, 18.392995196383172, 20.94977959875675, 17.163249505510016, 12.954190449279475, 12.754975981915774]}],\n",
              "                        {\"font\": {\"size\": 16}, \"legend\": {\"font\": {\"size\": 16}}, \"template\": {\"data\": {\"bar\": [{\"error_x\": {\"color\": \"#2a3f5f\"}, \"error_y\": {\"color\": \"#2a3f5f\"}, \"marker\": {\"line\": {\"color\": \"#E5ECF6\", \"width\": 0.5}}, \"type\": \"bar\"}], \"barpolar\": [{\"marker\": {\"line\": {\"color\": \"#E5ECF6\", \"width\": 0.5}}, \"type\": \"barpolar\"}], \"carpet\": [{\"aaxis\": {\"endlinecolor\": \"#2a3f5f\", \"gridcolor\": \"white\", \"linecolor\": \"white\", \"minorgridcolor\": \"white\", \"startlinecolor\": \"#2a3f5f\"}, \"baxis\": {\"endlinecolor\": \"#2a3f5f\", \"gridcolor\": \"white\", \"linecolor\": \"white\", \"minorgridcolor\": \"white\", \"startlinecolor\": \"#2a3f5f\"}, \"type\": \"carpet\"}], \"choropleth\": [{\"colorbar\": {\"outlinewidth\": 0, \"ticks\": \"\"}, \"type\": \"choropleth\"}], \"contour\": [{\"colorbar\": {\"outlinewidth\": 0, \"ticks\": \"\"}, \"colorscale\": [[0.0, \"#0d0887\"], [0.1111111111111111, \"#46039f\"], [0.2222222222222222, \"#7201a8\"], [0.3333333333333333, \"#9c179e\"], [0.4444444444444444, \"#bd3786\"], [0.5555555555555556, \"#d8576b\"], [0.6666666666666666, \"#ed7953\"], [0.7777777777777778, \"#fb9f3a\"], [0.8888888888888888, \"#fdca26\"], [1.0, \"#f0f921\"]], \"type\": \"contour\"}], \"contourcarpet\": [{\"colorbar\": {\"outlinewidth\": 0, \"ticks\": \"\"}, \"type\": \"contourcarpet\"}], \"heatmap\": [{\"colorbar\": {\"outlinewidth\": 0, \"ticks\": \"\"}, \"colorscale\": [[0.0, \"#0d0887\"], [0.1111111111111111, \"#46039f\"], [0.2222222222222222, \"#7201a8\"], [0.3333333333333333, \"#9c179e\"], [0.4444444444444444, \"#bd3786\"], [0.5555555555555556, \"#d8576b\"], [0.6666666666666666, \"#ed7953\"], [0.7777777777777778, \"#fb9f3a\"], [0.8888888888888888, \"#fdca26\"], [1.0, \"#f0f921\"]], \"type\": \"heatmap\"}], \"heatmapgl\": [{\"colorbar\": {\"outlinewidth\": 0, \"ticks\": \"\"}, \"colorscale\": [[0.0, \"#0d0887\"], [0.1111111111111111, \"#46039f\"], [0.2222222222222222, \"#7201a8\"], [0.3333333333333333, \"#9c179e\"], [0.4444444444444444, \"#bd3786\"], [0.5555555555555556, \"#d8576b\"], [0.6666666666666666, \"#ed7953\"], [0.7777777777777778, \"#fb9f3a\"], [0.8888888888888888, \"#fdca26\"], [1.0, \"#f0f921\"]], \"type\": \"heatmapgl\"}], \"histogram\": [{\"marker\": {\"colorbar\": {\"outlinewidth\": 0, \"ticks\": \"\"}}, \"type\": \"histogram\"}], \"histogram2d\": [{\"colorbar\": {\"outlinewidth\": 0, \"ticks\": \"\"}, \"colorscale\": [[0.0, \"#0d0887\"], [0.1111111111111111, \"#46039f\"], [0.2222222222222222, \"#7201a8\"], [0.3333333333333333, \"#9c179e\"], [0.4444444444444444, \"#bd3786\"], [0.5555555555555556, \"#d8576b\"], [0.6666666666666666, \"#ed7953\"], [0.7777777777777778, \"#fb9f3a\"], [0.8888888888888888, \"#fdca26\"], [1.0, \"#f0f921\"]], \"type\": \"histogram2d\"}], \"histogram2dcontour\": [{\"colorbar\": {\"outlinewidth\": 0, \"ticks\": \"\"}, \"colorscale\": [[0.0, \"#0d0887\"], [0.1111111111111111, \"#46039f\"], [0.2222222222222222, \"#7201a8\"], [0.3333333333333333, \"#9c179e\"], [0.4444444444444444, \"#bd3786\"], [0.5555555555555556, \"#d8576b\"], [0.6666666666666666, \"#ed7953\"], [0.7777777777777778, \"#fb9f3a\"], [0.8888888888888888, \"#fdca26\"], [1.0, \"#f0f921\"]], \"type\": \"histogram2dcontour\"}], \"mesh3d\": [{\"colorbar\": {\"outlinewidth\": 0, \"ticks\": \"\"}, \"type\": \"mesh3d\"}], \"parcoords\": [{\"line\": {\"colorbar\": {\"outlinewidth\": 0, \"ticks\": \"\"}}, \"type\": \"parcoords\"}], \"pie\": [{\"automargin\": true, \"type\": \"pie\"}], \"scatter\": [{\"marker\": {\"colorbar\": {\"outlinewidth\": 0, \"ticks\": \"\"}}, \"type\": \"scatter\"}], \"scatter3d\": [{\"line\": {\"colorbar\": {\"outlinewidth\": 0, \"ticks\": \"\"}}, \"marker\": {\"colorbar\": {\"outlinewidth\": 0, \"ticks\": \"\"}}, \"type\": \"scatter3d\"}], \"scattercarpet\": [{\"marker\": {\"colorbar\": {\"outlinewidth\": 0, \"ticks\": \"\"}}, \"type\": \"scattercarpet\"}], \"scattergeo\": [{\"marker\": {\"colorbar\": {\"outlinewidth\": 0, \"ticks\": \"\"}}, \"type\": \"scattergeo\"}], \"scattergl\": [{\"marker\": {\"colorbar\": {\"outlinewidth\": 0, \"ticks\": \"\"}}, \"type\": \"scattergl\"}], \"scattermapbox\": [{\"marker\": {\"colorbar\": {\"outlinewidth\": 0, \"ticks\": \"\"}}, \"type\": \"scattermapbox\"}], \"scatterpolar\": [{\"marker\": {\"colorbar\": {\"outlinewidth\": 0, \"ticks\": \"\"}}, \"type\": \"scatterpolar\"}], \"scatterpolargl\": [{\"marker\": {\"colorbar\": {\"outlinewidth\": 0, \"ticks\": \"\"}}, \"type\": \"scatterpolargl\"}], \"scatterternary\": [{\"marker\": {\"colorbar\": {\"outlinewidth\": 0, \"ticks\": \"\"}}, \"type\": \"scatterternary\"}], \"surface\": [{\"colorbar\": {\"outlinewidth\": 0, \"ticks\": \"\"}, \"colorscale\": [[0.0, \"#0d0887\"], [0.1111111111111111, \"#46039f\"], [0.2222222222222222, \"#7201a8\"], [0.3333333333333333, \"#9c179e\"], [0.4444444444444444, \"#bd3786\"], [0.5555555555555556, \"#d8576b\"], [0.6666666666666666, \"#ed7953\"], [0.7777777777777778, \"#fb9f3a\"], [0.8888888888888888, \"#fdca26\"], [1.0, \"#f0f921\"]], \"type\": \"surface\"}], \"table\": [{\"cells\": {\"fill\": {\"color\": \"#EBF0F8\"}, \"line\": {\"color\": \"white\"}}, \"header\": {\"fill\": {\"color\": \"#C8D4E3\"}, \"line\": {\"color\": \"white\"}}, \"type\": \"table\"}]}, \"layout\": {\"annotationdefaults\": {\"arrowcolor\": \"#2a3f5f\", \"arrowhead\": 0, \"arrowwidth\": 1}, \"coloraxis\": {\"colorbar\": {\"outlinewidth\": 0, \"ticks\": \"\"}}, \"colorscale\": {\"diverging\": [[0, \"#8e0152\"], [0.1, \"#c51b7d\"], [0.2, \"#de77ae\"], [0.3, \"#f1b6da\"], [0.4, \"#fde0ef\"], [0.5, \"#f7f7f7\"], [0.6, \"#e6f5d0\"], [0.7, \"#b8e186\"], [0.8, \"#7fbc41\"], [0.9, \"#4d9221\"], [1, \"#276419\"]], \"sequential\": [[0.0, \"#0d0887\"], [0.1111111111111111, \"#46039f\"], [0.2222222222222222, \"#7201a8\"], [0.3333333333333333, \"#9c179e\"], [0.4444444444444444, \"#bd3786\"], [0.5555555555555556, \"#d8576b\"], [0.6666666666666666, \"#ed7953\"], [0.7777777777777778, \"#fb9f3a\"], [0.8888888888888888, \"#fdca26\"], [1.0, \"#f0f921\"]], \"sequentialminus\": [[0.0, \"#0d0887\"], [0.1111111111111111, \"#46039f\"], [0.2222222222222222, \"#7201a8\"], [0.3333333333333333, \"#9c179e\"], [0.4444444444444444, \"#bd3786\"], [0.5555555555555556, \"#d8576b\"], [0.6666666666666666, \"#ed7953\"], [0.7777777777777778, \"#fb9f3a\"], [0.8888888888888888, \"#fdca26\"], [1.0, \"#f0f921\"]]}, \"colorway\": [\"#636efa\", \"#EF553B\", \"#00cc96\", \"#ab63fa\", \"#FFA15A\", \"#19d3f3\", \"#FF6692\", \"#B6E880\", \"#FF97FF\", \"#FECB52\"], \"font\": {\"color\": \"#2a3f5f\"}, \"geo\": {\"bgcolor\": \"white\", \"lakecolor\": \"white\", \"landcolor\": \"#E5ECF6\", \"showlakes\": true, \"showland\": true, \"subunitcolor\": \"white\"}, \"hoverlabel\": {\"align\": \"left\"}, \"hovermode\": \"closest\", \"mapbox\": {\"style\": \"light\"}, \"paper_bgcolor\": \"white\", \"plot_bgcolor\": \"#E5ECF6\", \"polar\": {\"angularaxis\": {\"gridcolor\": \"white\", \"linecolor\": \"white\", \"ticks\": \"\"}, \"bgcolor\": \"#E5ECF6\", \"radialaxis\": {\"gridcolor\": \"white\", \"linecolor\": \"white\", \"ticks\": \"\"}}, \"scene\": {\"xaxis\": {\"backgroundcolor\": \"#E5ECF6\", \"gridcolor\": \"white\", \"gridwidth\": 2, \"linecolor\": \"white\", \"showbackground\": true, \"ticks\": \"\", \"zerolinecolor\": \"white\"}, \"yaxis\": {\"backgroundcolor\": \"#E5ECF6\", \"gridcolor\": \"white\", \"gridwidth\": 2, \"linecolor\": \"white\", \"showbackground\": true, \"ticks\": \"\", \"zerolinecolor\": \"white\"}, \"zaxis\": {\"backgroundcolor\": \"#E5ECF6\", \"gridcolor\": \"white\", \"gridwidth\": 2, \"linecolor\": \"white\", \"showbackground\": true, \"ticks\": \"\", \"zerolinecolor\": \"white\"}}, \"shapedefaults\": {\"line\": {\"color\": \"#2a3f5f\"}}, \"ternary\": {\"aaxis\": {\"gridcolor\": \"white\", \"linecolor\": \"white\", \"ticks\": \"\"}, \"baxis\": {\"gridcolor\": \"white\", \"linecolor\": \"white\", \"ticks\": \"\"}, \"bgcolor\": \"#E5ECF6\", \"caxis\": {\"gridcolor\": \"white\", \"linecolor\": \"white\", \"ticks\": \"\"}}, \"title\": {\"x\": 0.05}, \"xaxis\": {\"automargin\": true, \"gridcolor\": \"white\", \"linecolor\": \"white\", \"ticks\": \"\", \"title\": {\"standoff\": 15}, \"zerolinecolor\": \"white\", \"zerolinewidth\": 2}, \"yaxis\": {\"automargin\": true, \"gridcolor\": \"white\", \"linecolor\": \"white\", \"ticks\": \"\", \"title\": {\"standoff\": 15}, \"zerolinecolor\": \"white\", \"zerolinewidth\": 2}}}, \"title\": {\"text\": \"What people are looking into the opposite sex\"}},\n",
              "                        {\"responsive\": true}\n",
              "                    ).then(function(){\n",
              "                            \n",
              "var gd = document.getElementById('2f565450-f4e3-4c58-97b0-2cadcdd77249');\n",
              "var x = new MutationObserver(function (mutations, observer) {{\n",
              "        var display = window.getComputedStyle(gd).display;\n",
              "        if (!display || display === 'none') {{\n",
              "            console.log([gd, 'removed!']);\n",
              "            Plotly.purge(gd);\n",
              "            observer.disconnect();\n",
              "        }}\n",
              "}});\n",
              "\n",
              "// Listen for the removal of the full notebook cells\n",
              "var notebookContainer = gd.closest('#notebook-container');\n",
              "if (notebookContainer) {{\n",
              "    x.observe(notebookContainer, {childList: true});\n",
              "}}\n",
              "\n",
              "// Listen for the clearing of the current output cell\n",
              "var outputEl = gd.closest('.output');\n",
              "if (outputEl) {{\n",
              "    x.observe(outputEl, {childList: true});\n",
              "}}\n",
              "\n",
              "                        })\n",
              "                };\n",
              "                \n",
              "            </script>\n",
              "        </div>\n",
              "</body>\n",
              "</html>"
            ]
          },
          "metadata": {
            "tags": []
          }
        }
      ]
    },
    {
      "cell_type": "markdown",
      "metadata": {
        "id": "5-TY42ZFhNwd"
      },
      "source": [
        "We know that men prefers an attractive partner whereas woman tend to prefer an all around men."
      ]
    },
    {
      "cell_type": "code",
      "metadata": {
        "id": "INjzDS4iKu3H",
        "colab": {
          "base_uri": "https://localhost:8080/",
          "height": 513
        },
        "outputId": "1c5a65e8-ef14-4053-942c-a254564a1d11"
      },
      "source": [
        "plt.figure(figsize=(13,6))\n",
        "plt.title(\"Race importance\", fontsize=18)\n",
        "sns.countplot(database['imprace'])"
      ],
      "execution_count": 49,
      "outputs": [
        {
          "output_type": "stream",
          "text": [
            "/usr/local/lib/python3.6/dist-packages/seaborn/_decorators.py:43: FutureWarning:\n",
            "\n",
            "Pass the following variable as a keyword arg: x. From version 0.12, the only valid positional argument will be `data`, and passing other arguments without an explicit keyword will result in an error or misinterpretation.\n",
            "\n"
          ],
          "name": "stderr"
        },
        {
          "output_type": "execute_result",
          "data": {
            "text/plain": [
              "<matplotlib.axes._subplots.AxesSubplot at 0x7fa82d4adf98>"
            ]
          },
          "metadata": {
            "tags": []
          },
          "execution_count": 49
        },
        {
          "output_type": "display_data",
          "data": {
            "image/png": "[encoded data removed]",
            "text/plain": [
              "<Figure size 936x432 with 1 Axes>"
            ]
          },
          "metadata": {
            "tags": [],
            "needs_background": "light"
          }
        }
      ]
    },
    {
      "cell_type": "code",
      "metadata": {
        "id": "h3yzQ92yKu3H",
        "colab": {
          "base_uri": "https://localhost:8080/",
          "height": 513
        },
        "outputId": "2d9b1136-0c35-420b-e4bc-444145b7277a"
      },
      "source": [
        "plt.figure(figsize=(13,6))\n",
        "plt.title('Religion brackground importance', fontsize=18)\n",
        "sns.countplot(database['imprelig'])"
      ],
      "execution_count": 48,
      "outputs": [
        {
          "output_type": "stream",
          "text": [
            "/usr/local/lib/python3.6/dist-packages/seaborn/_decorators.py:43: FutureWarning:\n",
            "\n",
            "Pass the following variable as a keyword arg: x. From version 0.12, the only valid positional argument will be `data`, and passing other arguments without an explicit keyword will result in an error or misinterpretation.\n",
            "\n"
          ],
          "name": "stderr"
        },
        {
          "output_type": "execute_result",
          "data": {
            "text/plain": [
              "<matplotlib.axes._subplots.AxesSubplot at 0x7fa82d4a3048>"
            ]
          },
          "metadata": {
            "tags": []
          },
          "execution_count": 48
        },
        {
          "output_type": "display_data",
          "data": {
            "image/png": "[encoded data removed]",
            "text/plain": [
              "<Figure size 936x432 with 1 Axes>"
            ]
          },
          "metadata": {
            "tags": [],
            "needs_background": "light"
          }
        }
      ]
    },
    {
      "cell_type": "markdown",
      "metadata": {
        "id": "WzcSSGgHhikd"
      },
      "source": [
        "Those two precedents graphs shows us that love knows no discrimination regarding religion and ethnicity which is a good point."
      ]
    },
    {
      "cell_type": "code",
      "metadata": {
        "id": "LDUOjcfLKu3I"
      },
      "source": [
        "# Most of Women know that men's are looking for attractive a woman\n",
        "# Now let's take a look in what people think about themselves vs How they think other people see them\n",
        "own_rating = database[['attr3_1', 'sinc3_1','intel3_1','fun3_1','amb3_1']].mean()\n",
        "others_rating = database[['attr5_1', 'sinc5_1','intel5_1','fun5_1','amb5_1']].mean()"
      ],
      "execution_count": 59,
      "outputs": []
    },
    {
      "cell_type": "code",
      "metadata": {
        "colab": {
          "base_uri": "https://localhost:8080/",
          "height": 542
        },
        "id": "Olc0ZzwuqQTy",
        "outputId": "444bc9d3-24c5-451e-ebfc-b4aca1d68d0a"
      },
      "source": [
        "trace1 = go.Bar(\n",
        "    y=list(own_rating),\n",
        "    x=cols[:-1],\n",
        "    name='SELF',\n",
        "    marker=dict(\n",
        "        color='lightblue'\n",
        "    )\n",
        ")\n",
        "trace2 = go.Bar(\n",
        "    y=list(others_rating),\n",
        "    x=cols[:-1],\n",
        "    name='OTHERS',\n",
        "    marker=dict(\n",
        "        color='darkgrey'\n",
        "    )\n",
        ")\n",
        "\n",
        "data = [trace1, trace2]\n",
        "layout = go.Layout(\n",
        "    title='Self-evaluation',\n",
        "    font=dict(\n",
        "        size=16\n",
        "    ),\n",
        "    legend=dict(\n",
        "        font=dict(\n",
        "            size=16\n",
        "        )\n",
        "    )\n",
        ")\n",
        "fig = go.Figure(data=data, layout=layout)\n",
        "py.iplot(fig, filename='barchart')"
      ],
      "execution_count": 60,
      "outputs": [
        {
          "output_type": "display_data",
          "data": {
            "text/html": [
              "<html>\n",
              "<head><meta charset=\"utf-8\" /></head>\n",
              "<body>\n",
              "    <div>\n",
              "            <script src=\"https://cdnjs.cloudflare.com/ajax/libs/mathjax/2.7.5/MathJax.js?config=TeX-AMS-MML_SVG\"></script><script type=\"text/javascript\">if (window.MathJax) {MathJax.Hub.Config({SVG: {font: \"STIX-Web\"}});}</script>\n",
              "                <script type=\"text/javascript\">window.PlotlyConfig = {MathJaxConfig: 'local'};</script>\n",
              "        <script src=\"https://cdn.plot.ly/plotly-latest.min.js\"></script>    \n",
              "            <div id=\"0681eee0-6d2b-486e-8e1d-2043d1b9f7c2\" class=\"plotly-graph-div\" style=\"height:525px; width:100%;\"></div>\n",
              "            <script type=\"text/javascript\">\n",
              "                \n",
              "                    window.PLOTLYENV=window.PLOTLYENV || {};\n",
              "                    \n",
              "                if (document.getElementById(\"0681eee0-6d2b-486e-8e1d-2043d1b9f7c2\")) {\n",
              "                    Plotly.newPlot(\n",
              "                        '0681eee0-6d2b-486e-8e1d-2043d1b9f7c2',\n",
              "                        [{\"marker\": {\"color\": \"lightblue\"}, \"name\": \"SELF\", \"type\": \"bar\", \"x\": [\"Attractive\", \"Sincere\", \"Intelligente\", \"Fun\", \"Ambituous\"], \"y\": [7.084733470325154, 8.294935331802249, 8.403964704460293, 7.704460292517829, 7.578387525685966]}, {\"marker\": {\"color\": \"darkgrey\"}, \"name\": \"OTHERS\", \"type\": \"bar\", \"x\": [\"Attractive\", \"Sincere\", \"Intelligente\", \"Fun\", \"Ambituous\"], \"y\": [6.941907867916837, 7.927231960864248, 8.284345699143906, 7.426212800652262, 7.617611088463106]}],\n",
              "                        {\"font\": {\"size\": 16}, \"legend\": {\"font\": {\"size\": 16}}, \"template\": {\"data\": {\"bar\": [{\"error_x\": {\"color\": \"#2a3f5f\"}, \"error_y\": {\"color\": \"#2a3f5f\"}, \"marker\": {\"line\": {\"color\": \"#E5ECF6\", \"width\": 0.5}}, \"type\": \"bar\"}], \"barpolar\": [{\"marker\": {\"line\": {\"color\": \"#E5ECF6\", \"width\": 0.5}}, \"type\": \"barpolar\"}], \"carpet\": [{\"aaxis\": {\"endlinecolor\": \"#2a3f5f\", \"gridcolor\": \"white\", \"linecolor\": \"white\", \"minorgridcolor\": \"white\", \"startlinecolor\": \"#2a3f5f\"}, \"baxis\": {\"endlinecolor\": \"#2a3f5f\", \"gridcolor\": \"white\", \"linecolor\": \"white\", \"minorgridcolor\": \"white\", \"startlinecolor\": \"#2a3f5f\"}, \"type\": \"carpet\"}], \"choropleth\": [{\"colorbar\": {\"outlinewidth\": 0, \"ticks\": \"\"}, \"type\": \"choropleth\"}], \"contour\": [{\"colorbar\": {\"outlinewidth\": 0, \"ticks\": \"\"}, \"colorscale\": [[0.0, \"#0d0887\"], [0.1111111111111111, \"#46039f\"], [0.2222222222222222, \"#7201a8\"], [0.3333333333333333, \"#9c179e\"], [0.4444444444444444, \"#bd3786\"], [0.5555555555555556, \"#d8576b\"], [0.6666666666666666, \"#ed7953\"], [0.7777777777777778, \"#fb9f3a\"], [0.8888888888888888, \"#fdca26\"], [1.0, \"#f0f921\"]], \"type\": \"contour\"}], \"contourcarpet\": [{\"colorbar\": {\"outlinewidth\": 0, \"ticks\": \"\"}, \"type\": \"contourcarpet\"}], \"heatmap\": [{\"colorbar\": {\"outlinewidth\": 0, \"ticks\": \"\"}, \"colorscale\": [[0.0, \"#0d0887\"], [0.1111111111111111, \"#46039f\"], [0.2222222222222222, \"#7201a8\"], [0.3333333333333333, \"#9c179e\"], [0.4444444444444444, \"#bd3786\"], [0.5555555555555556, \"#d8576b\"], [0.6666666666666666, \"#ed7953\"], [0.7777777777777778, \"#fb9f3a\"], [0.8888888888888888, \"#fdca26\"], [1.0, \"#f0f921\"]], \"type\": \"heatmap\"}], \"heatmapgl\": [{\"colorbar\": {\"outlinewidth\": 0, \"ticks\": \"\"}, \"colorscale\": [[0.0, \"#0d0887\"], [0.1111111111111111, \"#46039f\"], [0.2222222222222222, \"#7201a8\"], [0.3333333333333333, \"#9c179e\"], [0.4444444444444444, \"#bd3786\"], [0.5555555555555556, \"#d8576b\"], [0.6666666666666666, \"#ed7953\"], [0.7777777777777778, \"#fb9f3a\"], [0.8888888888888888, \"#fdca26\"], [1.0, \"#f0f921\"]], \"type\": \"heatmapgl\"}], \"histogram\": [{\"marker\": {\"colorbar\": {\"outlinewidth\": 0, \"ticks\": \"\"}}, \"type\": \"histogram\"}], \"histogram2d\": [{\"colorbar\": {\"outlinewidth\": 0, \"ticks\": \"\"}, \"colorscale\": [[0.0, \"#0d0887\"], [0.1111111111111111, \"#46039f\"], [0.2222222222222222, \"#7201a8\"], [0.3333333333333333, \"#9c179e\"], [0.4444444444444444, \"#bd3786\"], [0.5555555555555556, \"#d8576b\"], [0.6666666666666666, \"#ed7953\"], [0.7777777777777778, \"#fb9f3a\"], [0.8888888888888888, \"#fdca26\"], [1.0, \"#f0f921\"]], \"type\": \"histogram2d\"}], \"histogram2dcontour\": [{\"colorbar\": {\"outlinewidth\": 0, \"ticks\": \"\"}, \"colorscale\": [[0.0, \"#0d0887\"], [0.1111111111111111, \"#46039f\"], [0.2222222222222222, \"#7201a8\"], [0.3333333333333333, \"#9c179e\"], [0.4444444444444444, \"#bd3786\"], [0.5555555555555556, \"#d8576b\"], [0.6666666666666666, \"#ed7953\"], [0.7777777777777778, \"#fb9f3a\"], [0.8888888888888888, \"#fdca26\"], [1.0, \"#f0f921\"]], \"type\": \"histogram2dcontour\"}], \"mesh3d\": [{\"colorbar\": {\"outlinewidth\": 0, \"ticks\": \"\"}, \"type\": \"mesh3d\"}], \"parcoords\": [{\"line\": {\"colorbar\": {\"outlinewidth\": 0, \"ticks\": \"\"}}, \"type\": \"parcoords\"}], \"pie\": [{\"automargin\": true, \"type\": \"pie\"}], \"scatter\": [{\"marker\": {\"colorbar\": {\"outlinewidth\": 0, \"ticks\": \"\"}}, \"type\": \"scatter\"}], \"scatter3d\": [{\"line\": {\"colorbar\": {\"outlinewidth\": 0, \"ticks\": \"\"}}, \"marker\": {\"colorbar\": {\"outlinewidth\": 0, \"ticks\": \"\"}}, \"type\": \"scatter3d\"}], \"scattercarpet\": [{\"marker\": {\"colorbar\": {\"outlinewidth\": 0, \"ticks\": \"\"}}, \"type\": \"scattercarpet\"}], \"scattergeo\": [{\"marker\": {\"colorbar\": {\"outlinewidth\": 0, \"ticks\": \"\"}}, \"type\": \"scattergeo\"}], \"scattergl\": [{\"marker\": {\"colorbar\": {\"outlinewidth\": 0, \"ticks\": \"\"}}, \"type\": \"scattergl\"}], \"scattermapbox\": [{\"marker\": {\"colorbar\": {\"outlinewidth\": 0, \"ticks\": \"\"}}, \"type\": \"scattermapbox\"}], \"scatterpolar\": [{\"marker\": {\"colorbar\": {\"outlinewidth\": 0, \"ticks\": \"\"}}, \"type\": \"scatterpolar\"}], \"scatterpolargl\": [{\"marker\": {\"colorbar\": {\"outlinewidth\": 0, \"ticks\": \"\"}}, \"type\": \"scatterpolargl\"}], \"scatterternary\": [{\"marker\": {\"colorbar\": {\"outlinewidth\": 0, \"ticks\": \"\"}}, \"type\": \"scatterternary\"}], \"surface\": [{\"colorbar\": {\"outlinewidth\": 0, \"ticks\": \"\"}, \"colorscale\": [[0.0, \"#0d0887\"], [0.1111111111111111, \"#46039f\"], [0.2222222222222222, \"#7201a8\"], [0.3333333333333333, \"#9c179e\"], [0.4444444444444444, \"#bd3786\"], [0.5555555555555556, \"#d8576b\"], [0.6666666666666666, \"#ed7953\"], [0.7777777777777778, \"#fb9f3a\"], [0.8888888888888888, \"#fdca26\"], [1.0, \"#f0f921\"]], \"type\": \"surface\"}], \"table\": [{\"cells\": {\"fill\": {\"color\": \"#EBF0F8\"}, \"line\": {\"color\": \"white\"}}, \"header\": {\"fill\": {\"color\": \"#C8D4E3\"}, \"line\": {\"color\": \"white\"}}, \"type\": \"table\"}]}, \"layout\": {\"annotationdefaults\": {\"arrowcolor\": \"#2a3f5f\", \"arrowhead\": 0, \"arrowwidth\": 1}, \"coloraxis\": {\"colorbar\": {\"outlinewidth\": 0, \"ticks\": \"\"}}, \"colorscale\": {\"diverging\": [[0, \"#8e0152\"], [0.1, \"#c51b7d\"], [0.2, \"#de77ae\"], [0.3, \"#f1b6da\"], [0.4, \"#fde0ef\"], [0.5, \"#f7f7f7\"], [0.6, \"#e6f5d0\"], [0.7, \"#b8e186\"], [0.8, \"#7fbc41\"], [0.9, \"#4d9221\"], [1, \"#276419\"]], \"sequential\": [[0.0, \"#0d0887\"], [0.1111111111111111, \"#46039f\"], [0.2222222222222222, \"#7201a8\"], [0.3333333333333333, \"#9c179e\"], [0.4444444444444444, \"#bd3786\"], [0.5555555555555556, \"#d8576b\"], [0.6666666666666666, \"#ed7953\"], [0.7777777777777778, \"#fb9f3a\"], [0.8888888888888888, \"#fdca26\"], [1.0, \"#f0f921\"]], \"sequentialminus\": [[0.0, \"#0d0887\"], [0.1111111111111111, \"#46039f\"], [0.2222222222222222, \"#7201a8\"], [0.3333333333333333, \"#9c179e\"], [0.4444444444444444, \"#bd3786\"], [0.5555555555555556, \"#d8576b\"], [0.6666666666666666, \"#ed7953\"], [0.7777777777777778, \"#fb9f3a\"], [0.8888888888888888, \"#fdca26\"], [1.0, \"#f0f921\"]]}, \"colorway\": [\"#636efa\", \"#EF553B\", \"#00cc96\", \"#ab63fa\", \"#FFA15A\", \"#19d3f3\", \"#FF6692\", \"#B6E880\", \"#FF97FF\", \"#FECB52\"], \"font\": {\"color\": \"#2a3f5f\"}, \"geo\": {\"bgcolor\": \"white\", \"lakecolor\": \"white\", \"landcolor\": \"#E5ECF6\", \"showlakes\": true, \"showland\": true, \"subunitcolor\": \"white\"}, \"hoverlabel\": {\"align\": \"left\"}, \"hovermode\": \"closest\", \"mapbox\": {\"style\": \"light\"}, \"paper_bgcolor\": \"white\", \"plot_bgcolor\": \"#E5ECF6\", \"polar\": {\"angularaxis\": {\"gridcolor\": \"white\", \"linecolor\": \"white\", \"ticks\": \"\"}, \"bgcolor\": \"#E5ECF6\", \"radialaxis\": {\"gridcolor\": \"white\", \"linecolor\": \"white\", \"ticks\": \"\"}}, \"scene\": {\"xaxis\": {\"backgroundcolor\": \"#E5ECF6\", \"gridcolor\": \"white\", \"gridwidth\": 2, \"linecolor\": \"white\", \"showbackground\": true, \"ticks\": \"\", \"zerolinecolor\": \"white\"}, \"yaxis\": {\"backgroundcolor\": \"#E5ECF6\", \"gridcolor\": \"white\", \"gridwidth\": 2, \"linecolor\": \"white\", \"showbackground\": true, \"ticks\": \"\", \"zerolinecolor\": \"white\"}, \"zaxis\": {\"backgroundcolor\": \"#E5ECF6\", \"gridcolor\": \"white\", \"gridwidth\": 2, \"linecolor\": \"white\", \"showbackground\": true, \"ticks\": \"\", \"zerolinecolor\": \"white\"}}, \"shapedefaults\": {\"line\": {\"color\": \"#2a3f5f\"}}, \"ternary\": {\"aaxis\": {\"gridcolor\": \"white\", \"linecolor\": \"white\", \"ticks\": \"\"}, \"baxis\": {\"gridcolor\": \"white\", \"linecolor\": \"white\", \"ticks\": \"\"}, \"bgcolor\": \"#E5ECF6\", \"caxis\": {\"gridcolor\": \"white\", \"linecolor\": \"white\", \"ticks\": \"\"}}, \"title\": {\"x\": 0.05}, \"xaxis\": {\"automargin\": true, \"gridcolor\": \"white\", \"linecolor\": \"white\", \"ticks\": \"\", \"title\": {\"standoff\": 15}, \"zerolinecolor\": \"white\", \"zerolinewidth\": 2}, \"yaxis\": {\"automargin\": true, \"gridcolor\": \"white\", \"linecolor\": \"white\", \"ticks\": \"\", \"title\": {\"standoff\": 15}, \"zerolinecolor\": \"white\", \"zerolinewidth\": 2}}}, \"title\": {\"text\": \"Self-evaluation\"}},\n",
              "                        {\"responsive\": true}\n",
              "                    ).then(function(){\n",
              "                            \n",
              "var gd = document.getElementById('0681eee0-6d2b-486e-8e1d-2043d1b9f7c2');\n",
              "var x = new MutationObserver(function (mutations, observer) {{\n",
              "        var display = window.getComputedStyle(gd).display;\n",
              "        if (!display || display === 'none') {{\n",
              "            console.log([gd, 'removed!']);\n",
              "            Plotly.purge(gd);\n",
              "            observer.disconnect();\n",
              "        }}\n",
              "}});\n",
              "\n",
              "// Listen for the removal of the full notebook cells\n",
              "var notebookContainer = gd.closest('#notebook-container');\n",
              "if (notebookContainer) {{\n",
              "    x.observe(notebookContainer, {childList: true});\n",
              "}}\n",
              "\n",
              "// Listen for the clearing of the current output cell\n",
              "var outputEl = gd.closest('.output');\n",
              "if (outputEl) {{\n",
              "    x.observe(outputEl, {childList: true});\n",
              "}}\n",
              "\n",
              "                        })\n",
              "                };\n",
              "                \n",
              "            </script>\n",
              "        </div>\n",
              "</body>\n",
              "</html>"
            ]
          },
          "metadata": {
            "tags": []
          }
        }
      ]
    },
    {
      "cell_type": "code",
      "metadata": {
        "id": "g5xJ-HkiKu3I",
        "colab": {
          "base_uri": "https://localhost:8080/",
          "height": 720
        },
        "outputId": "a52c5d1f-fd8e-47bf-ab08-a4ffc19fa5d2"
      },
      "source": [
        "# Goal seeken for the night\n",
        "goals = ['Spend good time','Meet new people','get a date'\n",
        "        ,'Find a relationship',\"just to try\",'other']\n",
        "plt.figure(figsize=(8,12))\n",
        "sn = sns.countplot(y='goal',data=database, hue='gender', palette=['pink','darkblue'])\n",
        "sn.set(yticklabels=goals)\n",
        "sn.set\n",
        "sn = plt.yticks(rotation=0,fontsize=16)"
      ],
      "execution_count": 173,
      "outputs": [
        {
          "output_type": "display_data",
          "data": {
            "image/png": "[encoded data removed]",
            "text/plain": [
              "<Figure size 576x864 with 1 Axes>"
            ]
          },
          "metadata": {
            "tags": []
          }
        }
      ]
    },
    {
      "cell_type": "markdown",
      "metadata": {
        "id": "492na00EiEv6"
      },
      "source": [
        "Men are more likely to look for a date than woman but people in general just want to have fun and to spend a good evening. "
      ]
    },
    {
      "cell_type": "markdown",
      "metadata": {
        "id": "Rp4whDkjLMfc"
      },
      "source": [
        "Results: \n",
        "- Woman are more likely to get a second date than men maybe because woman are more selective\n",
        "- Men prefer attractive partners whereas woman prefer an all around men\n",
        "- If you want to increase your odds to spen a good night, you should go see a movie or go for a dinner\n",
        "- There is no traits that make you more likeable so just be yourself\n",
        "- The perception that you have of yourself is often right\n",
        "- You shoul aim to spend a good night instead of looking for a date if you dont want to be disapointed"
      ]
    },
    {
      "cell_type": "code",
      "metadata": {
        "id": "tvvPPe3CKu3I"
      },
      "source": [
        ""
      ],
      "execution_count": null,
      "outputs": []
    }
  ]
}